{
  "nbformat": 4,
  "nbformat_minor": 0,
  "metadata": {
    "colab": {
      "provenance": [],
      "authorship_tag": "ABX9TyMQqpEbhO3OLA7is7h76bMW",
      "include_colab_link": true
    },
    "kernelspec": {
      "name": "python3",
      "display_name": "Python 3"
    },
    "language_info": {
      "name": "python"
    }
  },
  "cells": [
    {
      "cell_type": "markdown",
      "metadata": {
        "id": "view-in-github",
        "colab_type": "text"
      },
      "source": [
        "<a href=\"https://colab.research.google.com/github/Ryan-M-Smith/CS315/blob/main/HW06/quickselect.ipynb\" target=\"_parent\"><img src=\"https://colab.research.google.com/assets/colab-badge.svg\" alt=\"Open In Colab\"/></a>"
      ]
    },
    {
      "cell_type": "markdown",
      "source": [
        "## Quickselect Algorithm Analysis"
      ],
      "metadata": {
        "id": "IdmBMaWzxtuV"
      }
    },
    {
      "cell_type": "markdown",
      "source": [
        "### Implementation"
      ],
      "metadata": {
        "id": "EjYRCsgoyIoi"
      }
    },
    {
      "cell_type": "code",
      "execution_count": 1,
      "metadata": {
        "id": "9nNumWtlxo8k"
      },
      "outputs": [],
      "source": [
        "import numpy as np\n",
        "import random\n",
        "import time\n",
        "\n",
        "from typing import Any\n",
        "\n",
        "def quickselect(arr: list[int], i: int) -> int:\n",
        "  if len(arr) == 1:\n",
        "    return arr[0]\n",
        "\n",
        "  pivot  = random.choice(arr)\n",
        "  lows   = [x for x in arr if x < pivot]\n",
        "  highs  = [x for x in arr if x > pivot]\n",
        "  pivots = [x for x in arr if x == pivot]\n",
        "\n",
        "  if i <= len(lows):\n",
        "    return quickselect(lows, i)\n",
        "  elif i <= len(lows) + len(pivots):\n",
        "    return pivot\n",
        "  else:\n",
        "    return quickselect(highs, i - len(lows) - len(pivots))"
      ]
    },
    {
      "cell_type": "markdown",
      "source": [
        "### Test Setup"
      ],
      "metadata": {
        "id": "xmHipnZizCs3"
      }
    },
    {
      "cell_type": "code",
      "source": [
        "rng = np.random.default_rng()\n",
        "TEST_RUNS = 10\n",
        "SIZES = [10, 50, 100, 1000, 2500, 7500, 10000, 12500, 17500, 20000]"
      ],
      "metadata": {
        "id": "wDnmZJMPzFRc"
      },
      "execution_count": 2,
      "outputs": []
    },
    {
      "cell_type": "markdown",
      "source": [
        "### Sorted Data"
      ],
      "metadata": {
        "id": "JWN5x2Qvybxt"
      }
    },
    {
      "cell_type": "code",
      "source": [
        "for i in range(TEST_RUNS):\n",
        "        n = SIZES[i]\n",
        "        statistic = n // 2\n",
        "        arr = list(range(n))\n",
        "\n",
        "        start = time.perf_counter()\n",
        "        quickselect(arr, statistic)\n",
        "        end = time.perf_counter()\n",
        "\n",
        "        print(f\"n = {n:<8,} time = {(end - start) * 1_000:.3f} ms\")"
      ],
      "metadata": {
        "colab": {
          "base_uri": "https://localhost:8080/"
        },
        "id": "SQzNBzpnye2k",
        "outputId": "a9333ed9-350b-46d6-aa81-702aee5009c4"
      },
      "execution_count": 3,
      "outputs": [
        {
          "output_type": "stream",
          "name": "stdout",
          "text": [
            "n = 10       time = 0.017 ms\n",
            "n = 50       time = 0.043 ms\n",
            "n = 100      time = 0.041 ms\n",
            "n = 1,000    time = 0.245 ms\n",
            "n = 2,500    time = 0.369 ms\n",
            "n = 7,500    time = 1.701 ms\n",
            "n = 10,000   time = 2.744 ms\n",
            "n = 12,500   time = 3.691 ms\n",
            "n = 17,500   time = 3.826 ms\n",
            "n = 20,000   time = 3.159 ms\n"
          ]
        }
      ]
    },
    {
      "cell_type": "markdown",
      "source": [
        "### Reverse-sorted Data"
      ],
      "metadata": {
        "id": "quZppqbNyfQF"
      }
    },
    {
      "cell_type": "code",
      "source": [
        "for i in range(TEST_RUNS):\n",
        "        n = SIZES[i]\n",
        "        statistic = n // 2\n",
        "        arr = list(range(n))[::-1]\n",
        "\n",
        "        start = time.perf_counter()\n",
        "        quickselect(arr, statistic)\n",
        "        end = time.perf_counter()\n",
        "\n",
        "        print(f\"n = {n:<8,} time = {(end - start) * 1_000:.3f} ms\")"
      ],
      "metadata": {
        "id": "AODpOttNylBF",
        "outputId": "6cbff617-cc9c-4028-85bf-f0615f27d750",
        "colab": {
          "base_uri": "https://localhost:8080/"
        }
      },
      "execution_count": 4,
      "outputs": [
        {
          "output_type": "stream",
          "name": "stdout",
          "text": [
            "n = 10       time = 0.012 ms\n",
            "n = 50       time = 0.026 ms\n",
            "n = 100      time = 0.046 ms\n",
            "n = 1,000    time = 0.375 ms\n",
            "n = 2,500    time = 0.568 ms\n",
            "n = 7,500    time = 1.414 ms\n",
            "n = 10,000   time = 4.758 ms\n",
            "n = 12,500   time = 4.985 ms\n",
            "n = 17,500   time = 5.377 ms\n",
            "n = 20,000   time = 7.898 ms\n"
          ]
        }
      ]
    },
    {
      "cell_type": "markdown",
      "source": [
        "### Random Data"
      ],
      "metadata": {
        "id": "abDcOUs_ylRR"
      }
    },
    {
      "cell_type": "code",
      "source": [
        "for i in range(TEST_RUNS):\n",
        "        n = SIZES[i]\n",
        "        statistic = n // 2\n",
        "        arr = rng.integers(low=0, high=100, size=n, dtype=int).tolist()\n",
        "\n",
        "        start = time.perf_counter()\n",
        "        quickselect(arr, statistic)\n",
        "        end = time.perf_counter()\n",
        "\n",
        "        print(f\"n = {n:<8,} time = {(end - start) * 1_000:.3f} ms\")"
      ],
      "metadata": {
        "id": "s9m3Db-Pyo9Z",
        "outputId": "a6a45426-eab5-434a-9c92-59417d4d0450",
        "colab": {
          "base_uri": "https://localhost:8080/"
        }
      },
      "execution_count": 5,
      "outputs": [
        {
          "output_type": "stream",
          "name": "stdout",
          "text": [
            "n = 10       time = 0.021 ms\n",
            "n = 50       time = 0.017 ms\n",
            "n = 100      time = 0.051 ms\n",
            "n = 1,000    time = 0.274 ms\n",
            "n = 2,500    time = 0.662 ms\n",
            "n = 7,500    time = 1.901 ms\n",
            "n = 10,000   time = 1.846 ms\n",
            "n = 12,500   time = 3.267 ms\n",
            "n = 17,500   time = 4.318 ms\n",
            "n = 20,000   time = 4.925 ms\n"
          ]
        }
      ]
    },
    {
      "cell_type": "markdown",
      "source": [
        "## Results\n",
        "\n",
        "We will compare all the resulting experimental runtimes against ratios for the average-case $\\Theta(n)$ runtime as well as the worst-case $\\Theta(n^2)$ runtime:\n",
        "\n",
        "<table border=\"1\" cellpadding=\"4\" style=\"border-collapse: collapse; text-align: center;\">\n",
        "  <tr>\n",
        "    <th colspan=\"1\"/>\n",
        "    <th colspan=\"3\">Sorted Data</th>\n",
        "    <th colspan=\"3\">Reverse-sorted Data</th>\n",
        "    <th colspan=\"3\">Random Data</th>\n",
        "  </tr>\n",
        "  <tr>\n",
        "    <th>$n$</th>\n",
        "    <th>$T(n)$ (ms)</th><th>$\\dfrac{T(n)}{n}$</th><th>$\\dfrac{T(n)}{n^2}$</th>\n",
        "    <th>$T(n)$ (ms)</th><th>$\\dfrac{T(n)}{n}$</th><th>$\\dfrac{T(n)}{n^2}$</th>\n",
        "    <th>$T(n)$ (ms)</th><th>$\\dfrac{T(n)}{n}$</th><th>$\\dfrac{T(n)}{n^2}$</th>\n",
        "  </tr>\n",
        "\n",
        "  <tr>\n",
        "    <td>10</td>\n",
        "    <td>0.017</td><td>0.0017</td><td>0.00017</td>\n",
        "    <td>0.012</td><td>0.0012</td><td>0.00012</td>\n",
        "    <td>0.021</td><td>0.0021</td><td>0.00021</td>\n",
        "  </tr>\n",
        "  <tr>\n",
        "    <td>50</td>\n",
        "    <td>0.043</td><td>0.00086</td><td>0.000017</td>\n",
        "    <td>0.026</td><td>0.00052</td><td>0.0000104</td>\n",
        "    <td>0.017</td><td>0.00034</td><td>0.0000068</td>\n",
        "  </tr>\n",
        "  <tr>\n",
        "    <td>100</td>\n",
        "    <td>0.041</td><td>0.00041</td><td>0.0000041</td>\n",
        "    <td>0.046</td><td>0.00046</td><td>0.0000046</td>\n",
        "    <td>0.051</td><td>0.00051</td><td>0.0000051</td>\n",
        "  </tr>\n",
        "  <tr>\n",
        "    <td>1,000</td>\n",
        "    <td>0.245</td><td>0.000245</td><td>0.000000245</td>\n",
        "    <td>0.375</td><td>0.000375</td><td>0.000000375</td>\n",
        "    <td>0.274</td><td>0.000274</td><td>0.000000274</td>\n",
        "  </tr>\n",
        "  <tr>\n",
        "    <td>2,500</td>\n",
        "    <td>0.369</td><td>0.0001476</td><td>0.000000059</td>\n",
        "    <td>0.568</td><td>0.000227</td><td>0.000000091</td>\n",
        "    <td>0.662</td><td>0.000265</td><td>0.000000106</td>\n",
        "  </tr>\n",
        "  <tr>\n",
        "    <td>7,500</td>\n",
        "    <td>1.701</td><td>0.0002268</td><td>0.0000000227</td>\n",
        "    <td>1.414</td><td>0.000189</td><td>0.0000000252</td>\n",
        "    <td>1.901</td><td>0.000253</td><td>0.000000034</td>\n",
        "  </tr>\n",
        "  <tr>\n",
        "    <td>10,000</td>\n",
        "    <td>2.744</td><td>0.0002744</td><td>0.0000000274</td>\n",
        "    <td>4.758</td><td>0.0004758</td><td>0.0000000476</td>\n",
        "    <td>1.846</td><td>0.0001846</td><td>0.0000000185</td>\n",
        "  </tr>\n",
        "  <tr>\n",
        "    <td>12,500</td>\n",
        "    <td>3.691</td><td>0.0002953</td><td>0.0000000235</td>\n",
        "    <td>4.985</td><td>0.0003988</td><td>0.0000000319</td>\n",
        "    <td>3.267</td><td>0.000261</td><td>0.0000000209</td>\n",
        "  </tr>\n",
        "  <tr>\n",
        "    <td>17,500</td>\n",
        "    <td>3.826</td><td>0.0002189</td><td>0.0000000125</td>\n",
        "    <td>5.377</td><td>0.000307</td><td>0.0000000175</td>\n",
        "    <td>4.318</td><td>0.000247</td><td>0.0000000142</td>\n",
        "  </tr>\n",
        "  <tr>\n",
        "    <td>20,000</td>\n",
        "    <td>3.159</td><td>0.0001579</td><td>0.0000000079</td>\n",
        "    <td>7.898</td><td>0.0003949</td><td>0.0000000197</td>\n",
        "    <td>4.925</td><td>0.000246</td><td>0.0000000123</td>\n",
        "  </tr>\n",
        "</table>\n",
        "\n",
        "\n",
        "\n",
        "## Analysis\n",
        "\n",
        "Looking at our ratios, as $n$ gets larger, the results in the $\\frac{T(n)}{n}$ column tend to stabilize around a factor of $1.0 \\times 10^{-4}$, showing that the runtime tends to stabilize around a ratio of $n$. **This strongly suggests that the algorithm runs in $\\Theta\\left(n\\right)$ time.** Looking at the ratios for<br>$n^2$, we can see that $\\frac{T(n)}{n^2}$ decreases exponentially toward zero as $n$ gets larger.\n"
      ],
      "metadata": {
        "id": "9lt_AkpeYRG_"
      }
    }
  ]
}