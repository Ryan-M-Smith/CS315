{
  "nbformat": 4,
  "nbformat_minor": 0,
  "metadata": {
    "colab": {
      "provenance": [],
      "authorship_tag": "ABX9TyPsaIhFf2ohlH6/cwJc+aG/",
      "include_colab_link": true
    },
    "kernelspec": {
      "name": "python3",
      "display_name": "Python 3"
    },
    "language_info": {
      "name": "python"
    }
  },
  "cells": [
    {
      "cell_type": "markdown",
      "metadata": {
        "id": "view-in-github",
        "colab_type": "text"
      },
      "source": [
        "<a href=\"https://colab.research.google.com/github/Ryan-M-Smith/CS315/blob/main/HW06/quickselect.ipynb\" target=\"_parent\"><img src=\"https://colab.research.google.com/assets/colab-badge.svg\" alt=\"Open In Colab\"/></a>"
      ]
    },
    {
      "cell_type": "markdown",
      "source": [
        "## Quickselect Algorithm Analysis"
      ],
      "metadata": {
        "id": "IdmBMaWzxtuV"
      }
    },
    {
      "cell_type": "markdown",
      "source": [
        "### Implementation"
      ],
      "metadata": {
        "id": "EjYRCsgoyIoi"
      }
    },
    {
      "cell_type": "code",
      "execution_count": 15,
      "metadata": {
        "id": "9nNumWtlxo8k"
      },
      "outputs": [],
      "source": [
        "import numpy as np\n",
        "import random\n",
        "import time\n",
        "\n",
        "from typing import Any\n",
        "\n",
        "def quickselect(arr: list[int], i: int) -> int:\n",
        "  if len(arr) == 1:\n",
        "    return arr[0]\n",
        "\n",
        "  pivot  = random.choice(arr)\n",
        "  lows   = [x for x in arr if x < pivot]\n",
        "  highs  = [x for x in arr if x > pivot]\n",
        "  pivots = [x for x in arr if x == pivot]\n",
        "\n",
        "  if i <= len(lows):\n",
        "    return quickselect(lows, i)\n",
        "  elif i <= len(lows) + len(pivots):\n",
        "    return pivot\n",
        "  else:\n",
        "    return quickselect(highs, i - len(lows) - len(pivots))"
      ]
    },
    {
      "cell_type": "markdown",
      "source": [
        "### Build Sample Inputs"
      ],
      "metadata": {
        "id": "xmHipnZizCs3"
      }
    },
    {
      "cell_type": "code",
      "source": [
        "INPUT_SIZE = 100\n",
        "ITH_ORDER_STAT = 5\n",
        "\n",
        "sorted_arr = list(range(INPUT_SIZE))\n",
        "reverse_sorted_arr = sorted_arr[::-1]\n",
        "\n",
        "rng = np.random.default_rng()\n",
        "rand_arr = rng.integers(low=0, high=100, size=INPUT_SIZE).tolist()"
      ],
      "metadata": {
        "id": "wDnmZJMPzFRc"
      },
      "execution_count": 16,
      "outputs": []
    },
    {
      "cell_type": "markdown",
      "source": [
        "### Test Harness"
      ],
      "metadata": {
        "id": "mtYokS8MzWWu"
      }
    },
    {
      "cell_type": "code",
      "source": [
        "def profile(method: callable, inputs: list[Any], label: str) -> None:\n",
        "  start = time.perf_counter()\n",
        "  method(*inputs)\n",
        "  end = time.perf_counter()\n",
        "  print(f\"{label}: time = {(end - start) * 1_000:.3f} ms\")"
      ],
      "metadata": {
        "id": "21L8ZvP-zWD5"
      },
      "execution_count": 17,
      "outputs": []
    },
    {
      "cell_type": "markdown",
      "source": [
        "### Sorted Data"
      ],
      "metadata": {
        "id": "JWN5x2Qvybxt"
      }
    },
    {
      "cell_type": "code",
      "source": [
        "profile(quickselect, [sorted_arr, ITH_ORDER_STAT], \"Sorted Data\")"
      ],
      "metadata": {
        "colab": {
          "base_uri": "https://localhost:8080/"
        },
        "id": "SQzNBzpnye2k",
        "outputId": "6afb15bc-c147-4cf4-8552-70a69db3632b"
      },
      "execution_count": 18,
      "outputs": [
        {
          "output_type": "stream",
          "name": "stdout",
          "text": [
            "Sorted Data: time = 0.055 ms\n"
          ]
        }
      ]
    },
    {
      "cell_type": "markdown",
      "source": [
        "### Reverse-sorted Data"
      ],
      "metadata": {
        "id": "quZppqbNyfQF"
      }
    },
    {
      "cell_type": "code",
      "source": [],
      "metadata": {
        "id": "AODpOttNylBF"
      },
      "execution_count": 18,
      "outputs": []
    },
    {
      "cell_type": "markdown",
      "source": [
        "### Random Data"
      ],
      "metadata": {
        "id": "abDcOUs_ylRR"
      }
    },
    {
      "cell_type": "code",
      "source": [],
      "metadata": {
        "id": "s9m3Db-Pyo9Z"
      },
      "execution_count": 18,
      "outputs": []
    }
  ]
}