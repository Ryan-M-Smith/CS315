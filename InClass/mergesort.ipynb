{
  "nbformat": 4,
  "nbformat_minor": 0,
  "metadata": {
    "colab": {
      "provenance": [],
      "include_colab_link": true
    },
    "kernelspec": {
      "name": "python3",
      "display_name": "Python 3"
    },
    "language_info": {
      "name": "python"
    }
  },
  "cells": [
    {
      "cell_type": "markdown",
      "metadata": {
        "id": "view-in-github",
        "colab_type": "text"
      },
      "source": [
        "<a href=\"https://colab.research.google.com/github/Ryan-M-Smith/CS315/blob/main/InClass/mergesort.ipynb\" target=\"_parent\"><img src=\"https://colab.research.google.com/assets/colab-badge.svg\" alt=\"Open In Colab\"/></a>"
      ]
    },
    {
      "cell_type": "code",
      "execution_count": 42,
      "metadata": {
        "id": "t_LwP80OmwFK"
      },
      "outputs": [],
      "source": [
        "# Template for testing Insertion-Sort on small lists, outputing each intermediate step"
      ]
    },
    {
      "cell_type": "code",
      "source": [
        "import random"
      ],
      "metadata": {
        "id": "LMcLd_etm-0Y"
      },
      "execution_count": 43,
      "outputs": []
    },
    {
      "cell_type": "code",
      "source": [
        "# Merge provided as a convenience\n",
        "def Merge(arr: list[int], p: int, q: int, r: int) -> None:\n",
        "    n_left = q - p + 1\n",
        "    n_right = r - q\n",
        "    lhs, rhs = [], []\n",
        "\n",
        "    for i in range(n_left):\n",
        "        lhs.append(arr[p + i])\n",
        "\n",
        "    for j in range(n_right):\n",
        "        rhs.append(arr[q + j + 1])\n",
        "\n",
        "    i, j, k = 0, 0, p\n",
        "\n",
        "    while i < n_left and j < n_right:\n",
        "        if (lhs[i] <= rhs[j]):\n",
        "            arr[k] = lhs[i]\n",
        "            i += 1\n",
        "        else:\n",
        "            arr[k] = rhs[j]\n",
        "            j += 1\n",
        "\n",
        "        k += 1\n",
        "\n",
        "    while i < n_left:\n",
        "        arr[k] = lhs[i]\n",
        "        i += 1\n",
        "        k += 1\n",
        "\n",
        "    while j < n_right:\n",
        "        arr[k] = rhs[j]\n",
        "        j += 1\n",
        "        k += 1\n",
        "\n",
        "    return"
      ],
      "metadata": {
        "id": "TyWIYm1_nIYR"
      },
      "execution_count": 44,
      "outputs": []
    },
    {
      "cell_type": "code",
      "source": [
        "def Mergesort(arr: list[int], p: int, r: int, *, print_flag: bool = False):\n",
        "    if p >= r:\n",
        "        return\n",
        "\n",
        "    q = (p + r) // 2\n",
        "\n",
        "    lhs, rhs = arr[:q], arr[:q]\n",
        "\n",
        "    # Modify the following three calls:\n",
        "    Mergesort(arr, p, q, print_flag=True)\n",
        "    Mergesort(arr, q + 1, r, print_flag=True)\n",
        "    Merge(arr, p, q, r)\n",
        "\n",
        "    if print_flag:\n",
        "      print(arr)\n",
        "\n",
        "    return"
      ],
      "metadata": {
        "id": "neX-YNcPnLpk"
      },
      "execution_count": 45,
      "outputs": []
    },
    {
      "cell_type": "code",
      "source": [
        "n = 8\n",
        "arr = list(range(n))\n",
        "random.shuffle(arr)\n",
        "\n",
        "print(arr)\n",
        "Mergesort(arr, 0, n - 1, print_flag=True)\n",
        "print(arr)"
      ],
      "metadata": {
        "colab": {
          "base_uri": "https://localhost:8080/"
        },
        "id": "RVXFjLS0nCeo",
        "outputId": "59acb664-e525-4c63-faae-f8f592f00a6b"
      },
      "execution_count": 46,
      "outputs": [
        {
          "output_type": "stream",
          "name": "stdout",
          "text": [
            "[4, 6, 1, 3, 5, 7, 2, 0]\n",
            "[4, 6, 1, 3, 5, 7, 2, 0]\n",
            "[4, 6, 1, 3, 5, 7, 2, 0]\n",
            "[1, 3, 4, 6, 5, 7, 2, 0]\n",
            "[1, 3, 4, 6, 5, 7, 2, 0]\n",
            "[1, 3, 4, 6, 5, 7, 0, 2]\n",
            "[1, 3, 4, 6, 0, 2, 5, 7]\n",
            "[0, 1, 2, 3, 4, 5, 6, 7]\n",
            "[0, 1, 2, 3, 4, 5, 6, 7]\n"
          ]
        }
      ]
    }
  ]
}