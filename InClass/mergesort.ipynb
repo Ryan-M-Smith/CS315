{
  "cells": [
    {
      "cell_type": "markdown",
      "metadata": {
        "colab_type": "text",
        "id": "view-in-github"
      },
      "source": [
        "<a href=\"https://colab.research.google.com/github/Ryan-M-Smith/CS315/blob/main/InClass/mergesort.ipynb\" target=\"_parent\"><img src=\"https://colab.research.google.com/assets/colab-badge.svg\" alt=\"Open In Colab\"/></a>"
      ]
    },
    {
      "cell_type": "code",
      "execution_count": 3,
      "metadata": {
        "id": "t_LwP80OmwFK"
      },
      "outputs": [],
      "source": [
        "# Template for testing Insertion-Sort on small lists, outputing each intermediate step"
      ]
    },
    {
      "cell_type": "code",
      "execution_count": 4,
      "metadata": {
        "id": "LMcLd_etm-0Y"
      },
      "outputs": [],
      "source": [
        "import random\n",
        "import time\n",
        "import numpy as np\n",
        "from typing import Any"
      ]
    },
    {
      "cell_type": "code",
      "execution_count": 5,
      "metadata": {
        "id": "TyWIYm1_nIYR"
      },
      "outputs": [],
      "source": [
        "# Merge provided as a convenience\n",
        "def merge(arr: list[Any], p: int, q: int, r: int) -> None:\n",
        "    n_left = q - p + 1\n",
        "    n_right = r - q\n",
        "    lhs, rhs = [], []\n",
        "\n",
        "    for i in range(n_left):\n",
        "        lhs.append(arr[p + i])\n",
        "\n",
        "    for j in range(n_right):\n",
        "        rhs.append(arr[q + j + 1])\n",
        "\n",
        "    i, j, k = 0, 0, p\n",
        "\n",
        "    while i < n_left and j < n_right:\n",
        "        if (lhs[i] <= rhs[j]):\n",
        "            arr[k] = lhs[i]\n",
        "            i += 1\n",
        "        else:\n",
        "            arr[k] = rhs[j]\n",
        "            j += 1\n",
        "\n",
        "        k += 1\n",
        "\n",
        "    while i < n_left:\n",
        "        arr[k] = lhs[i]\n",
        "        i += 1\n",
        "        k += 1\n",
        "\n",
        "    while j < n_right:\n",
        "        arr[k] = rhs[j]\n",
        "        j += 1\n",
        "        k += 1\n",
        "\n",
        "    return"
      ]
    },
    {
      "cell_type": "code",
      "execution_count": 6,
      "metadata": {
        "id": "neX-YNcPnLpk"
      },
      "outputs": [],
      "source": [
        "def merge_sort(arr: list[Any], p: int, r: int, *, print_flag: bool = False):\n",
        "    if p >= r:\n",
        "        return\n",
        "\n",
        "    q = (p + r) // 2\n",
        "\n",
        "    # Modify the following three calls:\n",
        "    merge_sort(arr, p, q, print_flag=print_flag)\n",
        "    merge_sort(arr, q + 1, r, print_flag=print_flag)\n",
        "    merge(arr, p, q, r)\n",
        "\n",
        "    if print_flag:\n",
        "      print(arr)\n",
        "\n",
        "    return"
      ]
    },
    {
      "cell_type": "code",
      "execution_count": 7,
      "metadata": {
        "colab": {
          "base_uri": "https://localhost:8080/"
        },
        "id": "RVXFjLS0nCeo",
        "outputId": "9684a326-2169-41c9-d16a-e93f1e8d8948"
      },
      "outputs": [
        {
          "name": "stdout",
          "output_type": "stream",
          "text": [
            "[2, 5, 1, 6, 7, 0, 4, 3]\n",
            "[2, 5, 1, 6, 7, 0, 4, 3]\n",
            "[2, 5, 1, 6, 7, 0, 4, 3]\n",
            "[1, 2, 5, 6, 7, 0, 4, 3]\n",
            "[1, 2, 5, 6, 0, 7, 4, 3]\n",
            "[1, 2, 5, 6, 0, 7, 3, 4]\n",
            "[1, 2, 5, 6, 0, 3, 4, 7]\n",
            "[0, 1, 2, 3, 4, 5, 6, 7]\n",
            "[0, 1, 2, 3, 4, 5, 6, 7]\n"
          ]
        }
      ],
      "source": [
        "n = 8\n",
        "arr = list(range(n))\n",
        "random.shuffle(arr)\n",
        "\n",
        "print(arr)\n",
        "merge_sort(arr, 0, n - 1, print_flag=True)\n",
        "print(arr)"
      ]
    },
    {
      "cell_type": "code",
      "execution_count": 25,
      "metadata": {
        "colab": {
          "base_uri": "https://localhost:8080/"
        },
        "id": "gunGh6RMSYFN",
        "outputId": "85190aa3-7537-456f-fc86-7f43b709a40e"
      },
      "outputs": [
        {
          "name": "stdout",
          "output_type": "stream",
          "text": [
            "n = 10       time = 0.019 ms\n",
            "n = 50       time = 0.077 ms\n",
            "n = 100      time = 0.150 ms\n",
            "n = 1,000    time = 1.627 ms\n",
            "n = 2,500    time = 4.554 ms\n",
            "n = 7,500    time = 14.377 ms\n",
            "n = 10,000   time = 22.863 ms\n",
            "n = 12,500   time = 26.663 ms\n",
            "n = 17,500   time = 35.169 ms\n",
            "n = 20,000   time = 42.591 ms\n"
          ]
        }
      ],
      "source": [
        "#\n",
        "# HW04 - time Merge Sort on random data for a variety of array sizes.\n",
        "#\n",
        "\n",
        "rng = np.random.default_rng()\n",
        "TEST_RUNS = 10\n",
        "sizes = [10, 50, 100, 1000, 2500, 7500, 10000, 12500, 17500, 20000]\n",
        "\n",
        "for i in range(TEST_RUNS):\n",
        "\t\tn = sizes[i]\n",
        "\t\tarr = rng.integers(low=0, high=100, size=n).tolist()\n",
        "\n",
        "\t\tstart = time.perf_counter()\n",
        "\t\tmerge_sort(arr, 0, n - 1)\n",
        "\t\tend = time.perf_counter()\n",
        "\n",
        "\t\tprint(f\"n = {n:<8,} time = {(end - start)*1_000:.3f} ms\")\n"
      ]
    },
    {
      "cell_type": "markdown",
      "metadata": {
        "id": "mumx4PHcZiwT"
      },
      "source": [
        "## Results\n",
        "\n",
        "Because Merge Sort has an expected runtime of $\\Theta\\left(n^2\\right)$, we will calculate all ratios with a denominator of $n^2$.\n",
        "\n",
        "| $n$    | Time (ms) | $\\dfrac{T(n)}{n^2}$|\n",
        "|--------|-----------|--------------------|\n",
        "| 10     | 0.019     | 0.190              |\n",
        "| 50     | 0.077     | 0.0308             |\n",
        "| 100    | 0.150     | 0.0150             |\n",
        "| 1,000  | 1.627     | 0.001627           |\n",
        "| 2,500  | 4.554     | 0.000729           |\n",
        "| 7,500  | 14.377    | 0.000256           |\n",
        "| 10,000 | 22.863    | 0.000229           |\n",
        "| 12,500 | 26.663    | 0.000171           |\n",
        "| 17,500 | 35.169    | 0.000115           |\n",
        "| 20,000 | 42.591    | 0.000107           |\n",
        "\n",
        "Looking at our ratios, as $n$ gets larger, the results tend to stabilize around a factor of $1.0 \\times 10^{-4}$, showing that the runtime tends to stabilize\n",
        "around a ratio of $n^2$. This strongly suggests that the algorithm runs in $\\Theta\\left(n^2\\right)$ time.\n"
      ]
    },
    {
      "cell_type": "code",
      "execution_count": 26,
      "metadata": {
        "colab": {
          "base_uri": "https://localhost:8080/"
        },
        "id": "GD7jUM8UY5QZ",
        "outputId": "867065a9-9eaf-49d1-fa2f-3c689708cbf9"
      },
      "outputs": [
        {
          "name": "stdout",
          "output_type": "stream",
          "text": [
            "n = 10       time = 0.016 ms\n",
            "n = 50       time = 0.066 ms\n",
            "n = 100      time = 0.111 ms\n",
            "n = 1,000    time = 1.644 ms\n",
            "n = 2,500    time = 4.349 ms\n",
            "n = 7,500    time = 15.848 ms\n",
            "n = 10,000   time = 18.193 ms\n",
            "n = 12,500   time = 22.459 ms\n",
            "n = 17,500   time = 32.376 ms\n",
            "n = 20,000   time = 37.496 ms\n"
          ]
        }
      ],
      "source": [
        "#\n",
        "# HW04 - time Merge Sort on sorted data for a variety of array sizes.\n",
        "#\n",
        "\n",
        "for i in range(TEST_RUNS):\n",
        "\t\tn = sizes[i]\n",
        "\t\tarr = list(range(n))\n",
        "\n",
        "\t\tstart = time.perf_counter()\n",
        "\t\tmerge_sort(arr, 0, n - 1)\n",
        "\t\tend = time.perf_counter()\n",
        "\n",
        "\t\tprint(f\"n = {n:<8,} time = {(end - start)*1_000:.3f} ms\")"
      ]
    }
  ],
  "metadata": {
    "colab": {
      "gpuType": "T4",
      "include_colab_link": true,
      "provenance": []
    },
    "kernelspec": {
      "display_name": "Python 3",
      "name": "python3"
    },
    "language_info": {
      "codemirror_mode": {
        "name": "ipython",
        "version": 3
      },
      "file_extension": ".py",
      "mimetype": "text/x-python",
      "name": "python",
      "nbconvert_exporter": "python",
      "pygments_lexer": "ipython3",
      "version": "3.13.7"
    }
  },
  "nbformat": 4,
  "nbformat_minor": 0
}
