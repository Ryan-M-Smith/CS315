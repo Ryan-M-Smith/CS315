{
  "cells": [
    {
      "cell_type": "markdown",
      "metadata": {
        "colab_type": "text",
        "id": "view-in-github"
      },
      "source": [
        "<a href=\"https://colab.research.google.com/github/Ryan-M-Smith/CS315/blob/main/InClass/mergesort.ipynb\" target=\"_parent\"><img src=\"https://colab.research.google.com/assets/colab-badge.svg\" alt=\"Open In Colab\"/></a>"
      ]
    },
    {
      "cell_type": "code",
      "execution_count": 1,
      "metadata": {
        "id": "t_LwP80OmwFK"
      },
      "outputs": [],
      "source": [
        "# Template for testing Insertion-Sort on small lists, outputing each intermediate step"
      ]
    },
    {
      "cell_type": "code",
      "execution_count": 2,
      "metadata": {
        "id": "LMcLd_etm-0Y"
      },
      "outputs": [],
      "source": [
        "import random"
      ]
    },
    {
      "cell_type": "code",
      "execution_count": 3,
      "metadata": {
        "id": "TyWIYm1_nIYR"
      },
      "outputs": [],
      "source": [
        "# Merge provided as a convenience\n",
        "def merge(arr: list[int], p: int, q: int, r: int) -> None:\n",
        "    n_left = q - p + 1\n",
        "    n_right = r - q\n",
        "    lhs, rhs = [], []\n",
        "\n",
        "    for i in range(n_left):\n",
        "        lhs.append(arr[p + i])\n",
        "\n",
        "    for j in range(n_right):\n",
        "        rhs.append(arr[q + j + 1])\n",
        "\n",
        "    i, j, k = 0, 0, p\n",
        "\n",
        "    while i < n_left and j < n_right:\n",
        "        if (lhs[i] <= rhs[j]):\n",
        "            arr[k] = lhs[i]\n",
        "            i += 1\n",
        "        else:\n",
        "            arr[k] = rhs[j]\n",
        "            j += 1\n",
        "\n",
        "        k += 1\n",
        "\n",
        "    while i < n_left:\n",
        "        arr[k] = lhs[i]\n",
        "        i += 1\n",
        "        k += 1\n",
        "\n",
        "    while j < n_right:\n",
        "        arr[k] = rhs[j]\n",
        "        j += 1\n",
        "        k += 1\n",
        "\n",
        "    return"
      ]
    },
    {
      "cell_type": "code",
      "execution_count": 4,
      "metadata": {
        "id": "neX-YNcPnLpk"
      },
      "outputs": [],
      "source": [
        "def merge_sort(arr: list[int], p: int, r: int, *, print_flag: bool = False):\n",
        "    if p >= r:\n",
        "        return\n",
        "\n",
        "    q = (p + r) // 2\n",
        "\n",
        "    # Modify the following three calls:\n",
        "    merge_sort(arr, p, q, print_flag=True)\n",
        "    merge_sort(arr, q + 1, r, print_flag=True)\n",
        "    merge(arr, p, q, r)\n",
        "\n",
        "    if print_flag:\n",
        "      print(arr)\n",
        "\n",
        "    return"
      ]
    },
    {
      "cell_type": "code",
      "execution_count": 5,
      "metadata": {
        "colab": {
          "base_uri": "https://localhost:8080/"
        },
        "id": "RVXFjLS0nCeo",
        "outputId": "59acb664-e525-4c63-faae-f8f592f00a6b"
      },
      "outputs": [
        {
          "name": "stdout",
          "output_type": "stream",
          "text": [
            "[7, 1, 3, 6, 0, 2, 4, 5]\n",
            "[1, 7, 3, 6, 0, 2, 4, 5]\n",
            "[1, 7, 3, 6, 0, 2, 4, 5]\n",
            "[1, 3, 6, 7, 0, 2, 4, 5]\n",
            "[1, 3, 6, 7, 0, 2, 4, 5]\n",
            "[1, 3, 6, 7, 0, 2, 4, 5]\n",
            "[1, 3, 6, 7, 0, 2, 4, 5]\n",
            "[0, 1, 2, 3, 4, 5, 6, 7]\n",
            "[0, 1, 2, 3, 4, 5, 6, 7]\n"
          ]
        }
      ],
      "source": [
        "n = 8\n",
        "arr = list(range(n))\n",
        "random.shuffle(arr)\n",
        "\n",
        "print(arr)\n",
        "merge_sort(arr, 0, n - 1, print_flag=True)\n",
        "print(arr)"
      ]
    },
    {
      "cell_type": "code",
      "execution_count": null,
      "metadata": {},
      "outputs": [],
      "source": [
        "#\n",
        "# HW04 - time Merge Sort on random data for a variety of array sizes.\n",
        "#\n",
        "\n",
        "import time\n",
        "import numpy as np\n",
        "\n",
        "rng = np.random.default_rng()\n",
        "batch_size = 10\n",
        "\n",
        "for _ in range(batch_size):\n",
        "\tfor n in (10, 100, 1000, 10000, 100000, 1000000):\n",
        "\t\tarr = rng.integers(low=0, high=100, size=n).tolist()\n",
        "\t\t\n",
        "\t\tstart = time.perf_counter()\n",
        "\t\tmerge_sort(arr, 0, n - 1)\n",
        "\t\tend = time.perf_counter()\n",
        "\n",
        "\t\tprint(f\"n={n:>9,} time={(end - start)*1_000:.3f} ms\")\n"
      ]
    }
  ],
  "metadata": {
    "colab": {
      "include_colab_link": true,
      "provenance": []
    },
    "kernelspec": {
      "display_name": "Python 3",
      "name": "python3"
    },
    "language_info": {
      "codemirror_mode": {
        "name": "ipython",
        "version": 3
      },
      "file_extension": ".py",
      "mimetype": "text/x-python",
      "name": "python",
      "nbconvert_exporter": "python",
      "pygments_lexer": "ipython3",
      "version": "3.13.7"
    }
  },
  "nbformat": 4,
  "nbformat_minor": 0
}
