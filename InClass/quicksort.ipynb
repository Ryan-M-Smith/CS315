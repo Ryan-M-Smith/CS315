{
  "cells": [
    {
      "cell_type": "markdown",
      "metadata": {
        "id": "view-in-github",
        "colab_type": "text"
      },
      "source": [
        "<a href=\"https://colab.research.google.com/github/Ryan-M-Smith/CS315/blob/main/InClass/quicksort.ipynb\" target=\"_parent\"><img src=\"https://colab.research.google.com/assets/colab-badge.svg\" alt=\"Open In Colab\"/></a>"
      ]
    },
    {
      "cell_type": "code",
      "execution_count": null,
      "metadata": {
        "id": "t_LwP80OmwFK"
      },
      "outputs": [],
      "source": [
        "# Template for testing Quick-Sort on small lists, outputing each intermediate step"
      ]
    },
    {
      "cell_type": "code",
      "execution_count": 2,
      "metadata": {
        "id": "LMcLd_etm-0Y"
      },
      "outputs": [],
      "source": [
        "import random\n",
        "import time\n",
        "import numpy as np\n",
        "from typing import Any"
      ]
    },
    {
      "cell_type": "code",
      "execution_count": 3,
      "metadata": {
        "id": "TyWIYm1_nIYR"
      },
      "outputs": [],
      "source": [
        "# Partition provided as a convenience\n",
        "\n",
        "def partition(arr: list[Any], p: int, r: int) -> int:\n",
        "    x = arr[r]\n",
        "    i = p - 1\n",
        "\n",
        "    for j in range(p,r):\n",
        "        if arr[j] <= x:\n",
        "            i += 1\n",
        "            arr[i], arr[j] = arr[j], arr[i]    # Swap arr[i] and arr[j]\n",
        "\n",
        "    arr[i+1], arr[r] = arr[r], arr[i+1]        # Swap arr[i+1] and arr[r]\n",
        "\n",
        "    return i + 1"
      ]
    },
    {
      "cell_type": "code",
      "execution_count": 4,
      "metadata": {
        "id": "neX-YNcPnLpk"
      },
      "outputs": [],
      "source": [
        "def quicksort(arr: list[Any], p: int, r: int, *, print_flag: bool = False) -> None:\n",
        "    if p < r:\n",
        "        q = partition(arr, p, r)\n",
        "\n",
        "        if print_flag:\n",
        "            print(arr)\n",
        "\n",
        "        quicksort(arr, p, q - 1, print_flag=print_flag)\n",
        "        quicksort(arr, q + 1 , r, print_flag=print_flag)"
      ]
    },
    {
      "cell_type": "code",
      "execution_count": 5,
      "metadata": {
        "colab": {
          "base_uri": "https://localhost:8080/"
        },
        "id": "RVXFjLS0nCeo",
        "outputId": "39a2602f-eb11-4a32-f99e-3daa5356e464"
      },
      "outputs": [
        {
          "output_type": "stream",
          "name": "stdout",
          "text": [
            "[6, 0, 4, 1, 7, 5, 2, 3]\n",
            "[0, 1, 2, 3, 7, 5, 4, 6]\n",
            "[0, 1, 2, 3, 7, 5, 4, 6]\n",
            "[0, 1, 2, 3, 7, 5, 4, 6]\n",
            "[0, 1, 2, 3, 5, 4, 6, 7]\n",
            "[0, 1, 2, 3, 4, 5, 6, 7]\n",
            "[0, 1, 2, 3, 4, 5, 6, 7]\n"
          ]
        }
      ],
      "source": [
        "n = 8\n",
        "arr = list(range(n))\n",
        "random.shuffle(arr)\n",
        "\n",
        "print(arr)\n",
        "quicksort(arr, 0, n - 1, print_flag=True)\n",
        "print(arr)"
      ]
    },
    {
      "cell_type": "code",
      "execution_count": null,
      "metadata": {
        "id": "JZ1Yy8EdSk7A",
        "outputId": "0cec30c6-b55e-4f15-c6e2-babbb0d92b56"
      },
      "outputs": [
        {
          "name": "stdout",
          "output_type": "stream",
          "text": [
            "n = 10       time = 0.006 ms\n",
            "n = 50       time = 0.022 ms\n",
            "n = 100      time = 0.900 ms\n",
            "n = 1,000    time = 1.816 ms\n",
            "n = 2,500    time = 5.161 ms\n",
            "n = 7,500    time = 26.336 ms\n",
            "n = 10,000   time = 45.511 ms\n",
            "n = 12,500   time = 63.852 ms\n",
            "n = 17,500   time = 118.799 ms\n",
            "n = 20,000   time = 153.088 ms\n"
          ]
        }
      ],
      "source": [
        "#\n",
        "# HW04 - time Quicksort on random data for a variety of array sizes.\n",
        "#\n",
        "\n",
        "rng = np.random.default_rng()\n",
        "TEST_RUNS = 10\n",
        "sizes = [10, 50, 100, 1000, 2500, 7500, 10000, 12500, 17500, 20000]\n",
        "\n",
        "for i in range(TEST_RUNS):\n",
        "        n = sizes[i]\n",
        "        arr = rng.integers(low=0, high=100, size=n).tolist()\n",
        "\n",
        "        start = time.perf_counter()\n",
        "        quicksort(arr, 0, n - 1)\n",
        "        end = time.perf_counter()\n",
        "\n",
        "        print(f\"n = {n:<8,} time = {(end - start) * 1_000:.3f} ms\")"
      ]
    },
    {
      "cell_type": "markdown",
      "metadata": {
        "id": "azNqbUmTSk7A"
      },
      "source": [
        "## Results\n",
        "\n",
        "Because Quicksort Sort has an expected runtime of $\\Theta\\left(n \\lg n\\right)$, we will calculate all ratios with a denominator of $n \\lg n$.\n",
        "\n",
        "| $n$    | $T(n)$      | $\\dfrac{T(n)}{n \\lg n}$      |\n",
        "| ------ | ----------- | ---------------------------- |\n",
        "| 10     | 0.006       | 0.000180                     |\n",
        "| 50     | 0.022       | 0.000538                     |\n",
        "| 100    | 0.900       | 0.01354                      |\n",
        "| 1,000  | 1.816       | 0.000182                     |\n",
        "| 2,500  | 5.161       | 0.000183                     |\n",
        "| 7,500  | 26.336      | 0.000272                     |\n",
        "| 10,000 | 45.511      | 0.000271                     |\n",
        "| 12,500 | 63.852      | 0.000374                     |\n",
        "| 17,500 | 118.799     | 0.000540                     |\n",
        "| 20,000 | 153.088     | 0.000464                     |\n",
        "\n",
        "\n",
        "\n",
        "Looking at our ratios, as $n$ gets larger, the results tend to stabilize around a factor of $1.0 \\times 10^{-4}$, showing that the runtime tends to stabilize\n",
        "around a ratio of $n \\lg n$. This strongly suggests that the algorithm runs in $\\Theta\\left(n \\lg n\\right)$ time.\n"
      ]
    },
    {
      "cell_type": "code",
      "execution_count": null,
      "metadata": {
        "id": "eaD1m9ebSk7B",
        "outputId": "2f8e8802-4351-4d1e-98b4-7c992ca397bc"
      },
      "outputs": [
        {
          "name": "stdout",
          "output_type": "stream",
          "text": [
            "n = 10       time = 0.008 ms\n",
            "n = 50       time = 0.079 ms\n",
            "n = 100      time = 0.302 ms\n",
            "n = 1,000    time = 30.955 ms\n",
            "n = 2,500    time = 201.886 ms\n",
            "n = 7,500    time = 1923.617 ms\n",
            "n = 10,000   time = 3299.818 ms\n",
            "n = 12,500   time = 5247.543 ms\n",
            "n = 17,500   time = 9953.997 ms\n",
            "n = 20,000   time = 13118.797 ms\n"
          ]
        }
      ],
      "source": [
        "#\n",
        "# HW04 - time Quicksort on sorted data for a variety of array sizes.\n",
        "#\n",
        "\n",
        "# This code will run into recursion depth issues for large n because quicksort\n",
        "# will be running in a worst-case scenario.\n",
        "import sys\n",
        "sys.setrecursionlimit(25000)\n",
        "\n",
        "for i in range(TEST_RUNS):\n",
        "    n = sizes[i]\n",
        "    arr = list(range(n))\n",
        "\n",
        "    start = time.perf_counter()\n",
        "    quicksort(arr, 0, n - 1)\n",
        "    end = time.perf_counter()\n",
        "\n",
        "    print(f\"n = {n:<8,} time = {(end - start)*1_000:.3f} ms\")"
      ]
    },
    {
      "cell_type": "code",
      "source": [
        "def quicksort_no_tr(arr: list[Any], p: int, r: int, *, print_flag: bool = False) -> None:\n",
        "    while p < r:\n",
        "      q = partition(arr, p, r)\n",
        "\n",
        "      if print_flag:\n",
        "        print(arr)\n",
        "\n",
        "      quicksort(arr, p, q - 1, print_flag=print_flag)\n",
        "      p = q + 1\n",
        "\n",
        "n = 8\n",
        "arr = list(range(n))\n",
        "random.shuffle(arr)\n",
        "\n",
        "print(arr)\n",
        "quicksort_no_tr(arr, 0, n - 1, print_flag=True)\n",
        "print(arr)"
      ],
      "metadata": {
        "colab": {
          "base_uri": "https://localhost:8080/"
        },
        "id": "BIdoJwy1SsEI",
        "outputId": "894294bc-0877-4393-d8e8-a6c3665fb19a"
      },
      "execution_count": 8,
      "outputs": [
        {
          "output_type": "stream",
          "name": "stdout",
          "text": [
            "[6, 3, 2, 5, 7, 1, 0, 4]\n",
            "[3, 2, 1, 0, 4, 6, 5, 7]\n",
            "[0, 2, 1, 3, 4, 6, 5, 7]\n",
            "[0, 2, 1, 3, 4, 6, 5, 7]\n",
            "[0, 1, 2, 3, 4, 6, 5, 7]\n",
            "[0, 1, 2, 3, 4, 6, 5, 7]\n",
            "[0, 1, 2, 3, 4, 5, 6, 7]\n",
            "[0, 1, 2, 3, 4, 5, 6, 7]\n"
          ]
        }
      ]
    },
    {
      "cell_type": "code",
      "source": [
        "#\n",
        "# In class 10/1/25 - time Quicksort (without tail recursion) on random data for a variety of array sizes.\n",
        "#\n",
        "\n",
        "rng = np.random.default_rng()\n",
        "TEST_RUNS = 10\n",
        "sizes = [10, 50, 100, 1000, 2500, 7500, 10000, 12500, 17500, 20000]\n",
        "\n",
        "for i in range(TEST_RUNS):\n",
        "        n = sizes[i]\n",
        "        arr = rng.integers(low=0, high=100, size=n).tolist()\n",
        "\n",
        "        start = time.perf_counter()\n",
        "        quicksort_no_tr(arr, 0, n - 1)\n",
        "        end = time.perf_counter()\n",
        "\n",
        "        print(f\"n = {n:<8,} time = {(end - start) * 1_000:.3f} ms\")"
      ],
      "metadata": {
        "colab": {
          "base_uri": "https://localhost:8080/"
        },
        "id": "cFb3cLKuS7SS",
        "outputId": "c6990301-1032-48c4-999f-14ace67d2b78"
      },
      "execution_count": 7,
      "outputs": [
        {
          "output_type": "stream",
          "name": "stdout",
          "text": [
            "n = 10       time = 0.016 ms\n",
            "n = 50       time = 0.050 ms\n",
            "n = 100      time = 0.095 ms\n",
            "n = 1,000    time = 1.481 ms\n",
            "n = 2,500    time = 7.496 ms\n",
            "n = 7,500    time = 40.384 ms\n",
            "n = 10,000   time = 65.748 ms\n",
            "n = 12,500   time = 97.573 ms\n",
            "n = 17,500   time = 192.487 ms\n",
            "n = 20,000   time = 257.742 ms\n"
          ]
        }
      ]
    },
    {
      "cell_type": "markdown",
      "source": [
        "| $n$    | $T(n)$      | $\\dfrac{T(n)}{n\\lg n}$      |\n",
        "| ------ | ----------: | --------------------------: |\n",
        "| 10     |       0.016 |                  0.00048165 |\n",
        "| 50     |       0.050 |                  0.00017718 |\n",
        "| 100    |       0.095 |                  0.00014299 |\n",
        "| 1,000  |       1.481 |                  0.00014861 |\n",
        "| 2,500  |       7.496 |                  0.00026563 |\n",
        "| 7,500  |      40.384 |                  0.00041829 |\n",
        "| 10,000 |      65.748 |                  0.00049480 |\n",
        "| 12,500 |      97.573 |                  0.00057355 |\n",
        "| 17,500 |     192.487 |                  0.00078036 |\n",
        "| 20,000 |     257.742 |                  0.00090197 |\n"
      ],
      "metadata": {
        "id": "ibjaPbLaUTbc"
      }
    },
    {
      "cell_type": "code",
      "source": [
        "# Partition with a median of three approach\n",
        "\n",
        "def median_of_three(arr: list[Any], p: int, r: int) -> int:\n",
        "    mid = (p + r) // 2\n",
        "    if (arr[p] > arr[mid]) ^ (arr[p] > arr[r]):\n",
        "        return p\n",
        "    elif (arr[mid] < arr[p]) ^ (arr[mid] < arr[r]):\n",
        "        return mid\n",
        "    else:\n",
        "        return r\n",
        "\n",
        "def partition_median(arr: list[Any], p: int, r: int) -> int:\n",
        "    # Use median of three to select pivot and swap it with the last element\n",
        "    median_index = median_of_three(arr, p, r)\n",
        "    arr[median_index], arr[r] = arr[r], arr[median_index]\n",
        "\n",
        "    x = arr[r]\n",
        "    i = p - 1\n",
        "\n",
        "    for j in range(p, r):\n",
        "        if arr[j] <= x:\n",
        "            i += 1\n",
        "            arr[i], arr[j] = arr[j], arr[i]    # Swap arr[i] and arr[j]\n",
        "\n",
        "    arr[i+1], arr[r] = arr[r], arr[i+1]        # Swap arr[i+1] and arr[r]\n",
        "\n",
        "    return i + 1"
      ],
      "metadata": {
        "id": "4zHTXPJOUlfJ"
      },
      "execution_count": 9,
      "outputs": []
    },
    {
      "cell_type": "code",
      "source": [
        "# Implement Quicksort without tail recusion and with a median of three approach\n",
        "def quicksort_mo3(arr: list[Any], p: int, r: int, *, print_flag: bool = False) -> None:\n",
        "    while p < r:\n",
        "      q = partition_median(arr, p, r)\n",
        "\n",
        "      if print_flag:\n",
        "        print(arr)\n",
        "\n",
        "      quicksort_mo3(arr, p, q - 1, print_flag=print_flag)\n",
        "      p = q + 1\n",
        "\n",
        "n = 8\n",
        "arr = list(range(n))\n",
        "random.shuffle(arr)\n",
        "\n",
        "print(arr)\n",
        "quicksort_mo3(arr, 0, n - 1, print_flag=True)\n",
        "print(arr)"
      ],
      "metadata": {
        "id": "VEDyiru8WQHr",
        "outputId": "f6f42497-f455-4354-f5d8-a81a89364399",
        "colab": {
          "base_uri": "https://localhost:8080/"
        }
      },
      "execution_count": 10,
      "outputs": [
        {
          "output_type": "stream",
          "name": "stdout",
          "text": [
            "[3, 7, 2, 6, 1, 5, 0, 4]\n",
            "[3, 2, 1, 0, 4, 5, 6, 7]\n",
            "[0, 1, 2, 3, 4, 5, 6, 7]\n",
            "[0, 1, 2, 3, 4, 5, 6, 7]\n",
            "[0, 1, 2, 3, 4, 5, 6, 7]\n",
            "[0, 1, 2, 3, 4, 5, 6, 7]\n"
          ]
        }
      ]
    }
  ],
  "metadata": {
    "colab": {
      "provenance": [],
      "include_colab_link": true
    },
    "kernelspec": {
      "display_name": "Python 3",
      "name": "python3"
    },
    "language_info": {
      "codemirror_mode": {
        "name": "ipython",
        "version": 3
      },
      "file_extension": ".py",
      "mimetype": "text/x-python",
      "name": "python",
      "nbconvert_exporter": "python",
      "pygments_lexer": "ipython3",
      "version": "3.13.7"
    }
  },
  "nbformat": 4,
  "nbformat_minor": 0
}