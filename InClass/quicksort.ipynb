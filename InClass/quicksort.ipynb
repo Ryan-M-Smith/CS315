{
  "cells": [
    {
      "cell_type": "markdown",
      "metadata": {
        "colab_type": "text",
        "id": "view-in-github"
      },
      "source": [
        "<a href=\"https://colab.research.google.com/github/Ryan-M-Smith/CS315/blob/main/InClass/quicksort.ipynb\" target=\"_parent\"><img src=\"https://colab.research.google.com/assets/colab-badge.svg\" alt=\"Open In Colab\"/></a>"
      ]
    },
    {
      "cell_type": "code",
      "execution_count": 28,
      "metadata": {
        "id": "t_LwP80OmwFK"
      },
      "outputs": [],
      "source": [
        "# Template for testing Quick-Sort on small lists, outputing each intermediate step"
      ]
    },
    {
      "cell_type": "code",
      "execution_count": 29,
      "metadata": {
        "id": "LMcLd_etm-0Y"
      },
      "outputs": [],
      "source": [
        "import random\n",
        "import time\n",
        "import numpy as np\n",
        "from typing import Any"
      ]
    },
    {
      "cell_type": "code",
      "execution_count": 30,
      "metadata": {
        "id": "TyWIYm1_nIYR"
      },
      "outputs": [],
      "source": [
        "# Partition provided as a convenience\n",
        "\n",
        "def partition(arr: list[Any], p: int, r: int) -> int:\n",
        "    x = arr[r]\n",
        "    i = p - 1\n",
        "    \n",
        "    for j in range(p,r):\n",
        "        if arr[j] <= x:\n",
        "            i += 1\n",
        "            arr[i], arr[j] = arr[j], arr[i]    # Swap arr[i] and arr[j]\n",
        "            \n",
        "    arr[i+1], arr[r] = arr[r], arr[i+1]        # Swap arr[i+1] and arr[r]\n",
        "\n",
        "    return i + 1"
      ]
    },
    {
      "cell_type": "code",
      "execution_count": 31,
      "metadata": {
        "id": "neX-YNcPnLpk"
      },
      "outputs": [],
      "source": [
        "def quicksort(arr: list[Any], p: int, r: int, *, print_flag: bool = False) -> None:\n",
        "    if p < r:\n",
        "        q = partition(arr, p, r)\n",
        "        \n",
        "        if print_flag:\n",
        "            print(arr)\n",
        "        \n",
        "        quicksort(arr, p, q - 1, print_flag=print_flag)\n",
        "        quicksort(arr, q + 1 , r, print_flag=print_flag)"
      ]
    },
    {
      "cell_type": "code",
      "execution_count": 32,
      "metadata": {
        "colab": {
          "base_uri": "https://localhost:8080/"
        },
        "id": "RVXFjLS0nCeo",
        "outputId": "9d5f56a3-0028-4bf8-b821-e0df6334c126"
      },
      "outputs": [
        {
          "name": "stdout",
          "output_type": "stream",
          "text": [
            "[4, 5, 0, 3, 6, 1, 2, 7]\n",
            "[4, 5, 0, 3, 6, 1, 2, 7]\n",
            "[0, 1, 2, 3, 6, 5, 4, 7]\n",
            "[0, 1, 2, 3, 6, 5, 4, 7]\n",
            "[0, 1, 2, 3, 4, 5, 6, 7]\n",
            "[0, 1, 2, 3, 4, 5, 6, 7]\n",
            "[0, 1, 2, 3, 4, 5, 6, 7]\n"
          ]
        }
      ],
      "source": [
        "n = 8\n",
        "arr = list(range(n))\n",
        "random.shuffle(arr)\n",
        "\n",
        "print(arr)\n",
        "quicksort(arr, 0, n - 1, print_flag=True)\n",
        "print(arr)"
      ]
    },
    {
      "cell_type": "code",
      "execution_count": 33,
      "metadata": {},
      "outputs": [
        {
          "name": "stdout",
          "output_type": "stream",
          "text": [
            "n = 10       time = 0.006 ms\n",
            "n = 50       time = 0.022 ms\n",
            "n = 100      time = 0.900 ms\n",
            "n = 1,000    time = 1.816 ms\n",
            "n = 2,500    time = 5.161 ms\n",
            "n = 7,500    time = 26.336 ms\n",
            "n = 10,000   time = 45.511 ms\n",
            "n = 12,500   time = 63.852 ms\n",
            "n = 17,500   time = 118.799 ms\n",
            "n = 20,000   time = 153.088 ms\n"
          ]
        }
      ],
      "source": [
        "#\n",
        "# HW04 - time Quicksort on random data for a variety of array sizes.\n",
        "#\n",
        "\n",
        "rng = np.random.default_rng()\n",
        "TEST_RUNS = 10\n",
        "sizes = [10, 50, 100, 1000, 2500, 7500, 10000, 12500, 17500, 20000]\n",
        "\n",
        "for i in range(TEST_RUNS):\n",
        "        n = sizes[i]\n",
        "        arr = rng.integers(low=0, high=100, size=n).tolist()\n",
        "\n",
        "        start = time.perf_counter()\n",
        "        quicksort(arr, 0, n - 1)\n",
        "        end = time.perf_counter()\n",
        "\n",
        "        print(f\"n = {n:<8,} time = {(end - start) * 1_000:.3f} ms\")"
      ]
    },
    {
      "cell_type": "markdown",
      "metadata": {},
      "source": [
        "## Results\n",
        "\n",
        "Because Merge Sort has an expected runtime of $\\Theta\\left(n^2\\right)$, we will calculate all ratios with a denominator of $n^2$.\n",
        "\n",
        "| $n$    | $T(n)$      | $\\dfrac{T(n)}{n \\lg n}$      |\n",
        "| ------ | ----------- | ---------------------------- |\n",
        "| 10     | 0.006       | 0.000180                     |\n",
        "| 50     | 0.022       | 0.000538                     |\n",
        "| 100    | 0.900       | 0.01354                      |\n",
        "| 1,000  | 1.816       | 0.000182                     |\n",
        "| 2,500  | 5.161       | 0.000183                     |\n",
        "| 7,500  | 26.336      | 0.000272                     |\n",
        "| 10,000 | 45.511      | 0.000271                     |\n",
        "| 12,500 | 63.852      | 0.000374                     |\n",
        "| 17,500 | 118.799     | 0.000540                     |\n",
        "| 20,000 | 153.088     | 0.000464                     |\n",
        "\n",
        "\n",
        "\n",
        "Looking at our ratios, as $n$ gets larger, the results tend to stabilize around a factor of $1.0 \\times 10^{-4}$, showing that the runtime tends to stabilize\n",
        "around a ratio of $n \\lg n$. This strongly suggests that the algorithm runs in $\\Theta\\left(n \\lg n\\right)$ time.\n"
      ]
    },
    {
      "cell_type": "code",
      "execution_count": 34,
      "metadata": {},
      "outputs": [
        {
          "name": "stdout",
          "output_type": "stream",
          "text": [
            "n = 10       time = 0.008 ms\n",
            "n = 50       time = 0.079 ms\n",
            "n = 100      time = 0.302 ms\n",
            "n = 1,000    time = 30.955 ms\n",
            "n = 2,500    time = 201.886 ms\n",
            "n = 7,500    time = 1923.617 ms\n",
            "n = 10,000   time = 3299.818 ms\n",
            "n = 12,500   time = 5247.543 ms\n",
            "n = 17,500   time = 9953.997 ms\n",
            "n = 20,000   time = 13118.797 ms\n"
          ]
        }
      ],
      "source": [
        "#\n",
        "# HW04 - time Quicksort on sorted data for a variety of array sizes.\n",
        "#\n",
        "\n",
        "# This code will run into recursion depth issues for large n because quicksort\n",
        "# will be running in a worst-case scenario.\n",
        "import sys\n",
        "sys.setrecursionlimit(25000)\n",
        "\n",
        "for i in range(TEST_RUNS):\n",
        "    n = sizes[i]\n",
        "    arr = list(range(n))\n",
        "\n",
        "    start = time.perf_counter()\n",
        "    quicksort(arr, 0, n - 1)\n",
        "    end = time.perf_counter()\n",
        "\n",
        "    print(f\"n = {n:<8,} time = {(end - start)*1_000:.3f} ms\")"
      ]
    }
  ],
  "metadata": {
    "colab": {
      "include_colab_link": true,
      "provenance": []
    },
    "kernelspec": {
      "display_name": "Python 3",
      "name": "python3"
    },
    "language_info": {
      "codemirror_mode": {
        "name": "ipython",
        "version": 3
      },
      "file_extension": ".py",
      "mimetype": "text/x-python",
      "name": "python",
      "nbconvert_exporter": "python",
      "pygments_lexer": "ipython3",
      "version": "3.13.7"
    }
  },
  "nbformat": 4,
  "nbformat_minor": 0
}
