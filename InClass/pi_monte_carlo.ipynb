{
  "nbformat": 4,
  "nbformat_minor": 0,
  "metadata": {
    "colab": {
      "provenance": [],
      "include_colab_link": true
    },
    "kernelspec": {
      "name": "python3",
      "display_name": "Python 3"
    },
    "language_info": {
      "name": "python"
    }
  },
  "cells": [
    {
      "cell_type": "markdown",
      "metadata": {
        "id": "view-in-github",
        "colab_type": "text"
      },
      "source": [
        "<a href=\"https://colab.research.google.com/github/Ryan-M-Smith/CS315/blob/main/InClass/pi_monte_carlo.ipynb\" target=\"_parent\"><img src=\"https://colab.research.google.com/assets/colab-badge.svg\" alt=\"Open In Colab\"/></a>"
      ]
    },
    {
      "cell_type": "code",
      "execution_count": null,
      "metadata": {
        "id": "1kC5fEv-sfDQ"
      },
      "outputs": [],
      "source": [
        "import numpy as np\n",
        "from numba import njit, prange\n",
        "import datetime\n",
        "import random\n",
        "import tensorflow as tf"
      ]
    },
    {
      "cell_type": "code",
      "source": [
        "# Naive approach\n",
        "\n",
        "start_time = datetime.datetime.now()\n",
        "\n",
        "def is_inside(x: float, y: float) -> bool:\n",
        "  return x ** 2 + y ** 2 <= 1.0\n",
        "\n",
        "n = 10000000\n",
        "inside = 0\n",
        "for i in range(n):\n",
        "  x, y = random.random(), random.random()\n",
        "  inside += x ** 2 + y ** 2 <= 1.0\n",
        "\n",
        "pi_est = 4.0 * inside / n\n",
        "print(f\"π ≈ {pi_est}\")\n",
        "\n",
        "end_time = datetime.datetime.now()\n",
        "elapsed_time = (end_time - start_time).total_seconds()\n",
        "\n",
        "print(f\"Completed simulation in {elapsed_time}s\")\n",
        "\n"
      ],
      "metadata": {
        "id": "m-X86P0FScb6",
        "outputId": "aa06fa90-3579-4fe5-d48b-717b9f4901eb",
        "colab": {
          "base_uri": "https://localhost:8080/"
        }
      },
      "execution_count": 9,
      "outputs": [
        {
          "output_type": "stream",
          "name": "stdout",
          "text": [
            "π ≈ 3.141596\n",
            "Completed simulation in 5.537432s\n"
          ]
        }
      ]
    },
    {
      "cell_type": "code",
      "source": [
        "# Just in time compilation into machine code\n",
        "@njit(parallel=True)\n",
        "def monte_carlo_pi(n):\n",
        "  inside = 0\n",
        "  for i in prange(n):\n",
        "    x = random.random()\n",
        "    y = random.random()\n",
        "    if x**2+y**2<=1.0:\n",
        "      inside +=1\n",
        "  return inside\n",
        "\n",
        "n = 10000000\n",
        "start_time = datetime.datetime.now()\n",
        "inCircle=monte_carlo_pi(n)\n",
        "end_time = datetime.datetime.now()\n",
        "elapsed_time = (end_time - start_time).total_seconds()\n",
        "pi_est_parallel = 4.0*inCircle/n\n",
        "print(pi_est_parallel,elapsed_time)"
      ],
      "metadata": {
        "id": "QaomkBz2TCc6",
        "outputId": "6615e79f-1989-4972-9f67-b767c2b24308",
        "colab": {
          "base_uri": "https://localhost:8080/"
        }
      },
      "execution_count": 10,
      "outputs": [
        {
          "output_type": "stream",
          "name": "stdout",
          "text": [
            "3.1425052 2.35935\n"
          ]
        }
      ]
    },
    {
      "cell_type": "code",
      "source": [
        "# Numpy approach, parallel vectors and hardware optimization, based on https://rse.shef.ac.uk/hpc-intro-tuos-citc/16-parallel/index.html\n",
        "n = 10000000\n",
        "#start_time = datetime.datetime.now()\n",
        "\n",
        "x = np.random.uniform(size=n)\n",
        "y = np.random.uniform(size=n)\n",
        "start_time = datetime.datetime.now()\n",
        "radii = np.sqrt(x*x + y*y)\n",
        "#counting how many inside the circle\n",
        "count = len(radii[np.where(radii<=1.0)])\n",
        "\n",
        "end_time = datetime.datetime.now()\n",
        "elapsed_time = (end_time - start_time).total_seconds()\n",
        "pi_est_numpy = 4.0 * count / n\n",
        "\n",
        "# Since the largest variables in the script are x, y, and radii, each containing n points,\n",
        "# and each is stored as a NumPy float64, to calculate the total memory required we can\n",
        "# use NumPy’s dtype function to calculate the size of a float64.\n",
        "size_of_float = np.dtype(np.float64).itemsize\n",
        "memory = 3 * n * size_of_float / (1024**3)\n",
        "\n",
        "print(pi_est_numpy,elapsed_time,\" memory used, in gigs: \",memory)"
      ],
      "metadata": {
        "id": "36BIa-fwsuLe",
        "outputId": "55b2e191-8389-41be-fa4d-a2411a9beb4f",
        "colab": {
          "base_uri": "https://localhost:8080/"
        }
      },
      "execution_count": 11,
      "outputs": [
        {
          "output_type": "stream",
          "name": "stdout",
          "text": [
            "3.1418224 0.230753  memory used, in gigs:  0.22351741790771484\n"
          ]
        }
      ]
    }
  ]
}