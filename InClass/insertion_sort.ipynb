{
  "nbformat": 4,
  "nbformat_minor": 0,
  "metadata": {
    "colab": {
      "provenance": [],
      "include_colab_link": true
    },
    "kernelspec": {
      "name": "python3",
      "display_name": "Python 3"
    },
    "language_info": {
      "name": "python"
    }
  },
  "cells": [
    {
      "cell_type": "markdown",
      "metadata": {
        "id": "view-in-github",
        "colab_type": "text"
      },
      "source": [
        "<a href=\"https://colab.research.google.com/github/Ryan-M-Smith/CS315/blob/main/InClass/insertionPoC.ipynb\" target=\"_parent\"><img src=\"https://colab.research.google.com/assets/colab-badge.svg\" alt=\"Open In Colab\"/></a>"
      ]
    },
    {
      "cell_type": "code",
      "execution_count": 67,
      "metadata": {
        "id": "tZGwopH4Y7oL"
      },
      "outputs": [],
      "source": [
        "# Template for testing Insertion-Sort on small lists, outputing each intermediate step"
      ]
    },
    {
      "cell_type": "code",
      "source": [
        "import random"
      ],
      "metadata": {
        "id": "fSME9MywceAq"
      },
      "execution_count": 68,
      "outputs": []
    },
    {
      "cell_type": "code",
      "source": [
        "def insertion(arr: list[int], *, print_flag: bool = False):\n",
        "\n",
        "  # For your convenience, here is the psuedocode from the textbook for Insertion-Sort\n",
        "  # You can adapt it for this problem, there aren't many changes required\n",
        "  # Note that N is defined in a different execution group and doesn't need to be a parameter\n",
        "  # Also, it is nice to have a boolean flag controlling whether the intermediate result is printed\n",
        "  # The psuedocode is written to be \"in-place,\" so the input list changes\n",
        "\n",
        "  # Insertion-Sort(A,n)\n",
        "  # for i=2 to n:\n",
        "  #    key = A[i]\n",
        "  # insert A[i] into sorted seq A[1]..A[i-1]\n",
        "  #    j = i-1\n",
        "  #    while j>0 and A[j]>key:\n",
        "  #       A[j+1] = A[j]\n",
        "  #       j = j-1\n",
        "  #    A[j+1] = key\n",
        "\n",
        "  for i in range(1, len(arr)):\n",
        "    key = arr[i]\n",
        "    j = i - 1\n",
        "\n",
        "    while j >= 0 and arr[j] > key:\n",
        "      arr[j + 1] = arr[j]\n",
        "      j -= 1\n",
        "\n",
        "    arr[j + 1] = key\n",
        "\n",
        "    if print_flag:\n",
        "        print(arr)"
      ],
      "metadata": {
        "id": "TJZL4jFQZhAp"
      },
      "execution_count": 69,
      "outputs": []
    },
    {
      "cell_type": "code",
      "source": [
        "n = 8\n",
        "arr = list(range(n))\n",
        "random.shuffle(arr)\n",
        "\n",
        "print(f\"Unsorted: {arr}\")\n",
        "insertion(arr, print_flag=True)\n",
        "print(f\"Sorted: {arr}\")"
      ],
      "metadata": {
        "colab": {
          "base_uri": "https://localhost:8080/"
        },
        "id": "f1GS3NjwZqmS",
        "outputId": "bf26d42e-69eb-482b-d428-7076c77d1f32"
      },
      "execution_count": 70,
      "outputs": [
        {
          "output_type": "stream",
          "name": "stdout",
          "text": [
            "Unsorted: [6, 5, 1, 3, 2, 4, 0, 7]\n",
            "[5, 6, 1, 3, 2, 4, 0, 7]\n",
            "[1, 5, 6, 3, 2, 4, 0, 7]\n",
            "[1, 3, 5, 6, 2, 4, 0, 7]\n",
            "[1, 2, 3, 5, 6, 4, 0, 7]\n",
            "[1, 2, 3, 4, 5, 6, 0, 7]\n",
            "[0, 1, 2, 3, 4, 5, 6, 7]\n",
            "[0, 1, 2, 3, 4, 5, 6, 7]\n",
            "Sorted: [0, 1, 2, 3, 4, 5, 6, 7]\n"
          ]
        }
      ]
    }
  ]
}
