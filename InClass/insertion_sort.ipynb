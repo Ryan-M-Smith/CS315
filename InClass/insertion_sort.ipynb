{
  "cells": [
    {
      "cell_type": "markdown",
      "metadata": {
        "id": "view-in-github",
        "colab_type": "text"
      },
      "source": [
        "<a href=\"https://colab.research.google.com/github/Ryan-M-Smith/CS315/blob/main/InClass/insertion_sort.ipynb\" target=\"_parent\"><img src=\"https://colab.research.google.com/assets/colab-badge.svg\" alt=\"Open In Colab\"/></a>"
      ]
    },
    {
      "cell_type": "code",
      "execution_count": 12,
      "metadata": {
        "id": "tZGwopH4Y7oL"
      },
      "outputs": [],
      "source": [
        "# Template for testing Insertion-Sort on small lists, outputing each intermediate step"
      ]
    },
    {
      "cell_type": "code",
      "execution_count": 13,
      "metadata": {
        "id": "fSME9MywceAq"
      },
      "outputs": [],
      "source": [
        "import random\n",
        "import time\n",
        "import numpy as np\n",
        "from typing import Any"
      ]
    },
    {
      "cell_type": "code",
      "execution_count": 14,
      "metadata": {
        "id": "TJZL4jFQZhAp"
      },
      "outputs": [],
      "source": [
        "def insertion(arr: list[Any], *, print_flag: bool = False):\n",
        "\n",
        "  # For your convenience, here is the psuedocode from the textbook for Insertion-Sort\n",
        "  # You can adapt it for this problem, there aren't many changes required\n",
        "  # Note that N is defined in a different execution group and doesn't need to be a parameter\n",
        "  # Also, it is nice to have a boolean flag controlling whether the intermediate result is printed\n",
        "  # The psuedocode is written to be \"in-place,\" so the input list changes\n",
        "\n",
        "  # Insertion-Sort(A,n)\n",
        "  # for i=2 to n:\n",
        "  #    key = A[i]\n",
        "  # insert A[i] into sorted seq A[1]..A[i-1]\n",
        "  #    j = i-1\n",
        "  #    while j>0 and A[j]>key:\n",
        "  #       A[j+1] = A[j]\n",
        "  #       j = j-1\n",
        "  #    A[j+1] = key\n",
        "\n",
        "  for i in range(1, len(arr)):\n",
        "    key = arr[i]\n",
        "    j = i - 1\n",
        "\n",
        "    while j >= 0 and arr[j] > key:\n",
        "      arr[j + 1] = arr[j]\n",
        "      j -= 1\n",
        "\n",
        "    arr[j + 1] = key\n",
        "\n",
        "    if print_flag:\n",
        "        print(arr)"
      ]
    },
    {
      "cell_type": "code",
      "execution_count": 15,
      "metadata": {
        "colab": {
          "base_uri": "https://localhost:8080/"
        },
        "id": "f1GS3NjwZqmS",
        "outputId": "6a20f781-4b13-4fbf-cb42-2f3de75ecf64"
      },
      "outputs": [
        {
          "output_type": "stream",
          "name": "stdout",
          "text": [
            "Unsorted: [7, 0, 6, 4, 2, 5, 1, 3]\n",
            "[0, 7, 6, 4, 2, 5, 1, 3]\n",
            "[0, 6, 7, 4, 2, 5, 1, 3]\n",
            "[0, 4, 6, 7, 2, 5, 1, 3]\n",
            "[0, 2, 4, 6, 7, 5, 1, 3]\n",
            "[0, 2, 4, 5, 6, 7, 1, 3]\n",
            "[0, 1, 2, 4, 5, 6, 7, 3]\n",
            "[0, 1, 2, 3, 4, 5, 6, 7]\n",
            "Sorted: [0, 1, 2, 3, 4, 5, 6, 7]\n"
          ]
        }
      ],
      "source": [
        "n = 8\n",
        "arr = list(range(n))\n",
        "random.shuffle(arr)\n",
        "\n",
        "print(f\"Unsorted: {arr}\")\n",
        "insertion(arr, print_flag=True)\n",
        "print(f\"Sorted: {arr}\")"
      ]
    },
    {
      "cell_type": "code",
      "execution_count": 16,
      "metadata": {
        "id": "sOQOy6Mdcja_",
        "outputId": "471d4973-33ef-439b-9a9e-8a89e16edb5d",
        "colab": {
          "base_uri": "https://localhost:8080/"
        }
      },
      "outputs": [
        {
          "output_type": "stream",
          "name": "stdout",
          "text": [
            "n = 10       time = 0.010 ms\n",
            "n = 50       time = 0.091 ms\n",
            "n = 100      time = 0.296 ms\n",
            "n = 1,000    time = 30.280 ms\n",
            "n = 2,500    time = 152.713 ms\n",
            "n = 7,500    time = 1385.619 ms\n",
            "n = 10,000   time = 2741.543 ms\n",
            "n = 12,500   time = 4779.251 ms\n",
            "n = 17,500   time = 7717.755 ms\n",
            "n = 20,000   time = 10719.440 ms\n"
          ]
        }
      ],
      "source": [
        "#\n",
        "# HW04 - time Insertion Sort on random data for a variety of array sizes.\n",
        "#\n",
        "\n",
        "rng = np.random.default_rng()\n",
        "TEST_RUNS = 10\n",
        "sizes = [10, 50, 100, 1000, 2500, 7500, 10000, 12500, 17500, 20000]\n",
        "\n",
        "for i in range(TEST_RUNS):\n",
        "\t\tn = sizes[i]\n",
        "\t\tarr = rng.integers(low=0, high=100, size=n).tolist()\n",
        "\n",
        "\t\tstart = time.perf_counter()\n",
        "\t\tinsertion(arr)\n",
        "\t\tend = time.perf_counter()\n",
        "\n",
        "\t\tprint(f\"n = {n:<8,} time = {(end - start)*1_000:.3f} ms\")"
      ]
    },
    {
      "cell_type": "markdown",
      "source": [
        "## Results\n",
        "\n",
        "Because Merge Sort has an expected runtime of $\\Theta\\left(n^2\\right)$, we will calculate all ratios with a denominator of $n^2$.\n",
        "\n",
        "| n      | time (ms) | $\\dfrac{T(n)}{n^2}$      |\n",
        "| ------ | --------- | ------------------------ |\n",
        "| 10     | 0.010     | 0.0001                   |\n",
        "| 50     | 0.091     | 0.0000364                |\n",
        "| 100    | 0.296     | 0.0000296                |\n",
        "| 1,000  | 30.280    | 0.00003028               |\n",
        "| 2,500  | 152.713   | 0.00002443               |\n",
        "| 7,500  | 1385.619  | 0.00002463               |\n",
        "| 10,000 | 2741.543  | 0.00002742               |\n",
        "| 12,500 | 4779.251  | 0.00003053               |\n",
        "| 17,500 | 7717.755  | 0.00002518               |\n",
        "| 20,000 | 10719.440 | 0.00002680               |\n",
        "\n",
        "\n",
        "Looking at our ratios, as $n$ gets larger, the results tend to stabilize around a factor of $1.0 \\times 10^{-5}$, showing that the runtime tends to stabilize\n",
        "around a ratio of $n^2$. This strongly suggests that the algorithm runs in $\\Theta\\left(n^2\\right)$ time.\n"
      ],
      "metadata": {
        "id": "erkaECBxc-xj"
      }
    },
    {
      "cell_type": "code",
      "source": [
        "#\n",
        "# HW04 - time Insertion Sort on sorted data for a variety of array sizes.\n",
        "#\n",
        "\n",
        "for i in range(TEST_RUNS):\n",
        "\t\tn = sizes[i]\n",
        "\t\tarr = list(range(n))\n",
        "\n",
        "\t\tstart = time.perf_counter()\n",
        "\t\tinsertion(arr)\n",
        "\t\tend = time.perf_counter()\n",
        "\n",
        "\t\tprint(f\"n = {n:<8,} time = {(end - start)*1_000:.3f} ms\")"
      ],
      "metadata": {
        "id": "-XjRCW8Jdr9x",
        "outputId": "82f224b0-f607-4dae-9490-5f7ef7f5a0f0",
        "colab": {
          "base_uri": "https://localhost:8080/"
        }
      },
      "execution_count": 17,
      "outputs": [
        {
          "output_type": "stream",
          "name": "stdout",
          "text": [
            "n = 10       time = 0.004 ms\n",
            "n = 50       time = 0.008 ms\n",
            "n = 100      time = 0.013 ms\n",
            "n = 1,000    time = 0.113 ms\n",
            "n = 2,500    time = 0.292 ms\n",
            "n = 7,500    time = 0.929 ms\n",
            "n = 10,000   time = 1.528 ms\n",
            "n = 12,500   time = 1.543 ms\n",
            "n = 17,500   time = 4.476 ms\n",
            "n = 20,000   time = 5.679 ms\n"
          ]
        }
      ]
    }
  ],
  "metadata": {
    "colab": {
      "provenance": [],
      "include_colab_link": true
    },
    "kernelspec": {
      "display_name": "Python 3",
      "name": "python3"
    },
    "language_info": {
      "codemirror_mode": {
        "name": "ipython",
        "version": 3
      },
      "file_extension": ".py",
      "mimetype": "text/x-python",
      "name": "python",
      "nbconvert_exporter": "python",
      "pygments_lexer": "ipython3",
      "version": "3.13.7"
    }
  },
  "nbformat": 4,
  "nbformat_minor": 0
}