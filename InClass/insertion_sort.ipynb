{
  "cells": [
    {
      "cell_type": "markdown",
      "metadata": {
        "colab_type": "text",
        "id": "view-in-github"
      },
      "source": [
        "<a href=\"https://colab.research.google.com/github/Ryan-M-Smith/CS315/blob/main/InClass/insertionPoC.ipynb\" target=\"_parent\"><img src=\"https://colab.research.google.com/assets/colab-badge.svg\" alt=\"Open In Colab\"/></a>"
      ]
    },
    {
      "cell_type": "code",
      "execution_count": 1,
      "metadata": {
        "id": "tZGwopH4Y7oL"
      },
      "outputs": [],
      "source": [
        "# Template for testing Insertion-Sort on small lists, outputing each intermediate step"
      ]
    },
    {
      "cell_type": "code",
      "execution_count": 2,
      "metadata": {
        "id": "fSME9MywceAq"
      },
      "outputs": [],
      "source": [
        "import random\n",
        "import time\n",
        "import numpy as np\n",
        "from typing import Any"
      ]
    },
    {
      "cell_type": "code",
      "execution_count": 3,
      "metadata": {
        "id": "TJZL4jFQZhAp"
      },
      "outputs": [],
      "source": [
        "def insertion(arr: list[Any], *, print_flag: bool = False):\n",
        "\n",
        "  # For your convenience, here is the psuedocode from the textbook for Insertion-Sort\n",
        "  # You can adapt it for this problem, there aren't many changes required\n",
        "  # Note that N is defined in a different execution group and doesn't need to be a parameter\n",
        "  # Also, it is nice to have a boolean flag controlling whether the intermediate result is printed\n",
        "  # The psuedocode is written to be \"in-place,\" so the input list changes\n",
        "\n",
        "  # Insertion-Sort(A,n)\n",
        "  # for i=2 to n:\n",
        "  #    key = A[i]\n",
        "  # insert A[i] into sorted seq A[1]..A[i-1]\n",
        "  #    j = i-1\n",
        "  #    while j>0 and A[j]>key:\n",
        "  #       A[j+1] = A[j]\n",
        "  #       j = j-1\n",
        "  #    A[j+1] = key\n",
        "\n",
        "  for i in range(1, len(arr)):\n",
        "    key = arr[i]\n",
        "    j = i - 1\n",
        "\n",
        "    while j >= 0 and arr[j] > key:\n",
        "      arr[j + 1] = arr[j]\n",
        "      j -= 1\n",
        "\n",
        "    arr[j + 1] = key\n",
        "\n",
        "    if print_flag:\n",
        "        print(arr)"
      ]
    },
    {
      "cell_type": "code",
      "execution_count": 4,
      "metadata": {
        "colab": {
          "base_uri": "https://localhost:8080/"
        },
        "id": "f1GS3NjwZqmS",
        "outputId": "bf26d42e-69eb-482b-d428-7076c77d1f32"
      },
      "outputs": [
        {
          "name": "stdout",
          "output_type": "stream",
          "text": [
            "Unsorted: [7, 3, 5, 6, 2, 0, 1, 4]\n",
            "[3, 7, 5, 6, 2, 0, 1, 4]\n",
            "[3, 5, 7, 6, 2, 0, 1, 4]\n",
            "[3, 5, 6, 7, 2, 0, 1, 4]\n",
            "[2, 3, 5, 6, 7, 0, 1, 4]\n",
            "[0, 2, 3, 5, 6, 7, 1, 4]\n",
            "[0, 1, 2, 3, 5, 6, 7, 4]\n",
            "[0, 1, 2, 3, 4, 5, 6, 7]\n",
            "Sorted: [0, 1, 2, 3, 4, 5, 6, 7]\n"
          ]
        }
      ],
      "source": [
        "n = 8\n",
        "arr = list(range(n))\n",
        "random.shuffle(arr)\n",
        "\n",
        "print(f\"Unsorted: {arr}\")\n",
        "insertion(arr, print_flag=True)\n",
        "print(f\"Sorted: {arr}\")"
      ]
    },
    {
      "cell_type": "code",
      "execution_count": 5,
      "metadata": {},
      "outputs": [
        {
          "name": "stdout",
          "output_type": "stream",
          "text": [
            "n = 10       time = 0.004 ms\n",
            "n = 50       time = 0.035 ms\n",
            "n = 100      time = 0.130 ms\n",
            "n = 1,000    time = 14.687 ms\n",
            "n = 2,500    time = 97.822 ms\n",
            "n = 7,500    time = 898.298 ms\n",
            "n = 10,000   time = 1570.081 ms\n",
            "n = 12,500   time = 2580.064 ms\n",
            "n = 17,500   time = 4894.436 ms\n",
            "n = 20,000   time = 6365.006 ms\n"
          ]
        }
      ],
      "source": [
        "#\n",
        "# HW04 - time Merge Sort on random data for a variety of array sizes.\n",
        "#\n",
        "\n",
        "rng = np.random.default_rng()\n",
        "TEST_RUNS = 10\n",
        "sizes = [10, 50, 100, 1000, 2500, 7500, 10000, 12500, 17500, 20000]\n",
        "\n",
        "for i in range(TEST_RUNS):\n",
        "\t\tn = sizes[i]\n",
        "\t\tarr = rng.integers(low=0, high=100, size=n).tolist()\n",
        "\n",
        "\t\tstart = time.perf_counter()\n",
        "\t\tinsertion(arr)\n",
        "\t\tend = time.perf_counter()\n",
        "\n",
        "\t\tprint(f\"n = {n:<8,} time = {(end - start)*1_000:.3f} ms\")"
      ]
    }
  ],
  "metadata": {
    "colab": {
      "include_colab_link": true,
      "provenance": []
    },
    "kernelspec": {
      "display_name": "Python 3",
      "name": "python3"
    },
    "language_info": {
      "codemirror_mode": {
        "name": "ipython",
        "version": 3
      },
      "file_extension": ".py",
      "mimetype": "text/x-python",
      "name": "python",
      "nbconvert_exporter": "python",
      "pygments_lexer": "ipython3",
      "version": "3.13.7"
    }
  },
  "nbformat": 4,
  "nbformat_minor": 0
}
