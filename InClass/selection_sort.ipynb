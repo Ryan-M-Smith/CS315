{
  "cells": [
    {
      "cell_type": "markdown",
      "metadata": {
        "colab_type": "text",
        "id": "view-in-github"
      },
      "source": [
        "<a href=\"https://colab.research.google.com/github/Ryan-M-Smith/CS315/blob/main/InClass/selection_sort.ipynb\" target=\"_parent\"><img src=\"https://colab.research.google.com/assets/colab-badge.svg\" alt=\"Open In Colab\"/></a>"
      ]
    },
    {
      "cell_type": "code",
      "execution_count": 5,
      "metadata": {
        "id": "tZGwopH4Y7oL"
      },
      "outputs": [],
      "source": [
        "# Template for testing Selection Sort on small lists, outputing each intermediate step"
      ]
    },
    {
      "cell_type": "code",
      "execution_count": 6,
      "metadata": {
        "id": "fSME9MywceAq"
      },
      "outputs": [],
      "source": [
        "import random\n",
        "import time\n",
        "import numpy as np\n",
        "from typing import Any"
      ]
    },
    {
      "cell_type": "code",
      "execution_count": 7,
      "metadata": {
        "id": "TJZL4jFQZhAp"
      },
      "outputs": [],
      "source": [
        "def selection(arr: list[Any], print_flag: bool = False) -> None:\n",
        "    n = len(arr)\n",
        "\n",
        "    for i in range(n):\n",
        "        smallest = i\n",
        "\n",
        "        for j in range(i + 1, n):\n",
        "            if arr[smallest] > arr[j]:\n",
        "                smallest = j\n",
        "\n",
        "        arr[i], arr[smallest] = arr[smallest], arr[i]\n",
        "\n",
        "        if print_flag:\n",
        "            print(arr)"
      ]
    },
    {
      "cell_type": "code",
      "execution_count": 8,
      "metadata": {
        "colab": {
          "base_uri": "https://localhost:8080/"
        },
        "id": "f1GS3NjwZqmS",
        "outputId": "752efa29-caec-474b-bf4a-5da0ea6dbbf2"
      },
      "outputs": [
        {
          "name": "stdout",
          "output_type": "stream",
          "text": [
            "[6, 4, 5, 2, 3, 0, 1, 7]\n",
            "[0, 4, 5, 2, 3, 6, 1, 7]\n",
            "[0, 1, 5, 2, 3, 6, 4, 7]\n",
            "[0, 1, 2, 5, 3, 6, 4, 7]\n",
            "[0, 1, 2, 3, 5, 6, 4, 7]\n",
            "[0, 1, 2, 3, 4, 6, 5, 7]\n",
            "[0, 1, 2, 3, 4, 5, 6, 7]\n",
            "[0, 1, 2, 3, 4, 5, 6, 7]\n",
            "[0, 1, 2, 3, 4, 5, 6, 7]\n",
            "[0, 1, 2, 3, 4, 5, 6, 7]\n"
          ]
        }
      ],
      "source": [
        "n = 8\n",
        "arr = list(range(n))\n",
        "random.shuffle(arr)\n",
        "\n",
        "print(arr)\n",
        "selection(arr, print_flag=True)\n",
        "print(arr)"
      ]
    },
    {
      "cell_type": "code",
      "execution_count": null,
      "metadata": {},
      "outputs": [
        {
          "name": "stdout",
          "output_type": "stream",
          "text": [
            "n = 10       time = 0.005 ms\n",
            "n = 50       time = 0.037 ms\n",
            "n = 100      time = 0.128 ms\n",
            "n = 1,000    time = 15.341 ms\n",
            "n = 2,500    time = 95.324 ms\n",
            "n = 7,500    time = 850.816 ms\n",
            "n = 10,000   time = 1395.355 ms\n",
            "n = 12,500   time = 2225.266 ms\n",
            "n = 17,500   time = 4252.657 ms\n",
            "n = 20,000   time = 5818.823 ms\n"
          ]
        }
      ],
      "source": [
        "#\n",
        "# HW04 - time Selection Sort on random data for a variety of array sizes.\n",
        "#\n",
        "\n",
        "rng = np.random.default_rng()\n",
        "TEST_RUNS = 10\n",
        "sizes = [10, 50, 100, 1000, 2500, 7500, 10000, 12500, 17500, 20000]\n",
        "\n",
        "for i in range(TEST_RUNS):\n",
        "    n = sizes[i]\n",
        "    arr = rng.integers(low=0, high=100, size=n).tolist()\n",
        "\n",
        "    start = time.perf_counter()\n",
        "    selection(arr)\n",
        "    end = time.perf_counter()\n",
        "\n",
        "    print(f\"n = {n:<8,} time = {(end - start) * 1_000:.3f} ms\")"
      ]
    },
    {
      "cell_type": "code",
      "execution_count": 10,
      "metadata": {},
      "outputs": [
        {
          "name": "stdout",
          "output_type": "stream",
          "text": [
            "n = 10       time = 0.004 ms\n",
            "n = 50       time = 0.063 ms\n",
            "n = 100      time = 0.277 ms\n",
            "n = 1,000    time = 15.392 ms\n",
            "n = 2,500    time = 95.789 ms\n",
            "n = 7,500    time = 848.901 ms\n",
            "n = 10,000   time = 1505.527 ms\n",
            "n = 12,500   time = 2317.907 ms\n",
            "n = 17,500   time = 4334.139 ms\n",
            "n = 20,000   time = 5503.345 ms\n"
          ]
        }
      ],
      "source": [
        "#\n",
        "# HW04 - time Selection Sort on sorted data for a variety of array sizes.\n",
        "#\n",
        "\n",
        "for i in range(TEST_RUNS):\n",
        "    n = sizes[i]\n",
        "    arr = list(range(n))\n",
        "\n",
        "    start = time.perf_counter()\n",
        "    selection(arr)\n",
        "    end = time.perf_counter()\n",
        "\n",
        "    print(f\"n = {n:<8,} time = {(end - start)*1_000:.3f} ms\")"
      ]
    }
  ],
  "metadata": {
    "colab": {
      "include_colab_link": true,
      "provenance": []
    },
    "kernelspec": {
      "display_name": "Python 3",
      "name": "python3"
    },
    "language_info": {
      "codemirror_mode": {
        "name": "ipython",
        "version": 3
      },
      "file_extension": ".py",
      "mimetype": "text/x-python",
      "name": "python",
      "nbconvert_exporter": "python",
      "pygments_lexer": "ipython3",
      "version": "3.13.7"
    }
  },
  "nbformat": 4,
  "nbformat_minor": 0
}
