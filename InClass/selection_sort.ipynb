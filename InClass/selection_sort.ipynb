{
  "nbformat": 4,
  "nbformat_minor": 0,
  "metadata": {
    "colab": {
      "provenance": [],
      "include_colab_link": true
    },
    "kernelspec": {
      "name": "python3",
      "display_name": "Python 3"
    },
    "language_info": {
      "name": "python"
    }
  },
  "cells": [
    {
      "cell_type": "markdown",
      "metadata": {
        "id": "view-in-github",
        "colab_type": "text"
      },
      "source": [
        "<a href=\"https://colab.research.google.com/github/Ryan-M-Smith/CS315/blob/main/InClass/selection_sort.ipynb\" target=\"_parent\"><img src=\"https://colab.research.google.com/assets/colab-badge.svg\" alt=\"Open In Colab\"/></a>"
      ]
    },
    {
      "cell_type": "code",
      "execution_count": 5,
      "metadata": {
        "id": "tZGwopH4Y7oL"
      },
      "outputs": [],
      "source": [
        "# Template for testing Selection Sort on small lists, outputing each intermediate step"
      ]
    },
    {
      "cell_type": "code",
      "source": [
        "import random"
      ],
      "metadata": {
        "id": "fSME9MywceAq"
      },
      "execution_count": 6,
      "outputs": []
    },
    {
      "cell_type": "code",
      "source": [
        "def selection(arr: list[int], print_flag: bool = False) -> None:\n",
        "  n = len(arr)\n",
        "\n",
        "  for i in range(n):\n",
        "    smallest = i\n",
        "\n",
        "    for j in range(i + 1, n):\n",
        "      if arr[smallest] > arr[j]:\n",
        "        smallest = j\n",
        "\n",
        "    arr[i], arr[smallest] = arr[smallest], arr[i]\n",
        "\n",
        "    if print_flag:\n",
        "      print(arr)"
      ],
      "metadata": {
        "id": "TJZL4jFQZhAp"
      },
      "execution_count": 7,
      "outputs": []
    },
    {
      "cell_type": "code",
      "source": [
        "N=8\n",
        "A = list(range(N))\n",
        "\n",
        "random.shuffle(A)\n",
        "\n",
        "print(A)\n",
        "selection(A,True)\n",
        "print(A)"
      ],
      "metadata": {
        "id": "f1GS3NjwZqmS",
        "outputId": "752efa29-caec-474b-bf4a-5da0ea6dbbf2",
        "colab": {
          "base_uri": "https://localhost:8080/"
        }
      },
      "execution_count": 9,
      "outputs": [
        {
          "output_type": "stream",
          "name": "stdout",
          "text": [
            "[3, 1, 6, 2, 5, 4, 0, 7]\n",
            "[0, 1, 6, 2, 5, 4, 3, 7]\n",
            "[0, 1, 6, 2, 5, 4, 3, 7]\n",
            "[0, 1, 2, 6, 5, 4, 3, 7]\n",
            "[0, 1, 2, 3, 5, 4, 6, 7]\n",
            "[0, 1, 2, 3, 4, 5, 6, 7]\n",
            "[0, 1, 2, 3, 4, 5, 6, 7]\n",
            "[0, 1, 2, 3, 4, 5, 6, 7]\n",
            "[0, 1, 2, 3, 4, 5, 6, 7]\n",
            "[0, 1, 2, 3, 4, 5, 6, 7]\n"
          ]
        }
      ]
    }
  ]
}