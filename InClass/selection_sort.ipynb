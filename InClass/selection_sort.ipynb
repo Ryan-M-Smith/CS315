{
  "cells": [
    {
      "cell_type": "markdown",
      "metadata": {
        "colab_type": "text",
        "id": "view-in-github"
      },
      "source": [
        "<a href=\"https://colab.research.google.com/github/Ryan-M-Smith/CS315/blob/main/InClass/selection_sort.ipynb\" target=\"_parent\"><img src=\"https://colab.research.google.com/assets/colab-badge.svg\" alt=\"Open In Colab\"/></a>"
      ]
    },
    {
      "cell_type": "code",
      "execution_count": 1,
      "metadata": {
        "id": "tZGwopH4Y7oL"
      },
      "outputs": [],
      "source": [
        "# Template for testing Selection Sort on small lists, outputing each intermediate step"
      ]
    },
    {
      "cell_type": "code",
      "execution_count": 2,
      "metadata": {
        "id": "fSME9MywceAq"
      },
      "outputs": [],
      "source": [
        "import random\n",
        "import time\n",
        "import numpy as np\n",
        "from typing import Any"
      ]
    },
    {
      "cell_type": "code",
      "execution_count": 3,
      "metadata": {
        "id": "TJZL4jFQZhAp"
      },
      "outputs": [],
      "source": [
        "def selection(arr: list[Any], print_flag: bool = False) -> None:\n",
        "    n = len(arr)\n",
        "\n",
        "    for i in range(n):\n",
        "        smallest = i\n",
        "\n",
        "        for j in range(i + 1, n):\n",
        "            if arr[smallest] > arr[j]:\n",
        "                smallest = j\n",
        "\n",
        "        arr[i], arr[smallest] = arr[smallest], arr[i]\n",
        "\n",
        "        if print_flag:\n",
        "            print(arr)"
      ]
    },
    {
      "cell_type": "code",
      "execution_count": 4,
      "metadata": {
        "colab": {
          "base_uri": "https://localhost:8080/"
        },
        "id": "f1GS3NjwZqmS",
        "outputId": "937892d5-f3bc-4766-a820-8b8daa4a3030"
      },
      "outputs": [
        {
          "name": "stdout",
          "output_type": "stream",
          "text": [
            "[2, 0, 4, 7, 6, 5, 1, 3]\n",
            "[0, 2, 4, 7, 6, 5, 1, 3]\n",
            "[0, 1, 4, 7, 6, 5, 2, 3]\n",
            "[0, 1, 2, 7, 6, 5, 4, 3]\n",
            "[0, 1, 2, 3, 6, 5, 4, 7]\n",
            "[0, 1, 2, 3, 4, 5, 6, 7]\n",
            "[0, 1, 2, 3, 4, 5, 6, 7]\n",
            "[0, 1, 2, 3, 4, 5, 6, 7]\n",
            "[0, 1, 2, 3, 4, 5, 6, 7]\n",
            "[0, 1, 2, 3, 4, 5, 6, 7]\n"
          ]
        }
      ],
      "source": [
        "n = 8\n",
        "arr = list(range(n))\n",
        "random.shuffle(arr)\n",
        "\n",
        "print(arr)\n",
        "selection(arr, print_flag=True)\n",
        "print(arr)"
      ]
    },
    {
      "cell_type": "code",
      "execution_count": 5,
      "metadata": {
        "colab": {
          "base_uri": "https://localhost:8080/"
        },
        "id": "ZXYP238mg-Im",
        "outputId": "8af0909a-1b80-4d26-e41f-97523658775a"
      },
      "outputs": [
        {
          "name": "stdout",
          "output_type": "stream",
          "text": [
            "n = 10       time = 0.008 ms\n",
            "n = 50       time = 0.108 ms\n",
            "n = 100      time = 0.265 ms\n",
            "n = 1,000    time = 40.189 ms\n",
            "n = 2,500    time = 222.407 ms\n",
            "n = 7,500    time = 3215.181 ms\n",
            "n = 10,000   time = 2916.149 ms\n",
            "n = 12,500   time = 5061.201 ms\n",
            "n = 17,500   time = 7664.191 ms\n",
            "n = 20,000   time = 13272.571 ms\n"
          ]
        }
      ],
      "source": [
        "#\n",
        "# HW04 - time Selection Sort on random data for a variety of array sizes.\n",
        "#\n",
        "\n",
        "rng = np.random.default_rng()\n",
        "TEST_RUNS = 10\n",
        "sizes = [10, 50, 100, 1000, 2500, 7500, 10000, 12500, 17500, 20000]\n",
        "\n",
        "for i in range(TEST_RUNS):\n",
        "    n = sizes[i]\n",
        "    arr = rng.integers(low=0, high=100, size=n).tolist()\n",
        "\n",
        "    start = time.perf_counter()\n",
        "    selection(arr)\n",
        "    end = time.perf_counter()\n",
        "\n",
        "    print(f\"n = {n:<8,} time = {(end - start) * 1_000:.3f} ms\")"
      ]
    },
    {
      "cell_type": "markdown",
      "metadata": {
        "id": "TY_rsAYlhAdZ"
      },
      "source": [
        "## Results\n",
        "\n",
        "Because Selection Sort has an expected runtime of $\\Theta\\left(n^2\\right)$, we will calculate all ratios with a denominator of $n^2$.\n",
        "\n",
        "| $n$    | $T(n)$    | $\\dfrac{T(n)}{n^2}$      |\n",
        "| ------ | --------- | ------------------------ |\n",
        "| 10     | 0.008     | 0.0000800                |\n",
        "| 50     | 0.108     | 0.0000432                |\n",
        "| 100    | 0.265     | 0.0000265                |\n",
        "| 1,000  | 40.189    | 0.0000402                |\n",
        "| 2,500  | 222.407   | 0.0000356                |\n",
        "| 7,500  | 3215.181  | 0.0000572                |\n",
        "| 10,000 | 2916.149  | 0.0000292                |\n",
        "| 12,500 | 5061.201  | 0.0000324                |\n",
        "| 17,500 | 7664.191  | 0.0000250                |\n",
        "| 20,000 | 13272.571 | 0.0000332                |\n",
        "\n",
        "Looking at our ratios, as $n$ gets larger, the results tend to stabilize around a factor of $1.0 \\times 10^{-5}$, showing that the runtime tends to stabilize\n",
        "around a ratio of $n^2$. This strongly suggests that the algorithm runs in $\\Theta\\left(n^2\\right)$ time.\n"
      ]
    },
    {
      "cell_type": "code",
      "execution_count": 6,
      "metadata": {
        "colab": {
          "base_uri": "https://localhost:8080/"
        },
        "id": "QAN_azfbg-In",
        "outputId": "31031ed0-b71c-403b-f779-ab690e20117d"
      },
      "outputs": [
        {
          "name": "stdout",
          "output_type": "stream",
          "text": [
            "n = 10       time = 0.006 ms\n",
            "n = 50       time = 0.074 ms\n",
            "n = 100      time = 0.173 ms\n",
            "n = 1,000    time = 26.749 ms\n",
            "n = 2,500    time = 155.289 ms\n",
            "n = 7,500    time = 1695.416 ms\n",
            "n = 10,000   time = 3431.555 ms\n",
            "n = 12,500   time = 3860.293 ms\n",
            "n = 17,500   time = 8824.608 ms\n",
            "n = 20,000   time = 10751.659 ms\n"
          ]
        }
      ],
      "source": [
        "#\n",
        "# HW04 - time Selection Sort on sorted data for a variety of array sizes.\n",
        "#\n",
        "\n",
        "for i in range(TEST_RUNS):\n",
        "    n = sizes[i]\n",
        "    arr = list(range(n))\n",
        "\n",
        "    start = time.perf_counter()\n",
        "    selection(arr)\n",
        "    end = time.perf_counter()\n",
        "\n",
        "    print(f\"n = {n:<8,} time = {(end - start)*1_000:.3f} ms\")"
      ]
    }
  ],
  "metadata": {
    "colab": {
      "include_colab_link": true,
      "provenance": []
    },
    "kernelspec": {
      "display_name": "Python 3",
      "name": "python3"
    },
    "language_info": {
      "codemirror_mode": {
        "name": "ipython",
        "version": 3
      },
      "file_extension": ".py",
      "mimetype": "text/x-python",
      "name": "python",
      "nbconvert_exporter": "python",
      "pygments_lexer": "ipython3",
      "version": "3.13.7"
    }
  },
  "nbformat": 4,
  "nbformat_minor": 0
}
