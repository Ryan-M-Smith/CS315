{
 "cells": [
  {
   "cell_type": "markdown",
   "id": "e252b133",
   "metadata": {},
   "source": [
    "## Profiling Python's built-in `sorted()` and `list.sort()` methods"
   ]
  },
  {
   "cell_type": "code",
   "execution_count": 15,
   "id": "e9b8fd76",
   "metadata": {},
   "outputs": [],
   "source": [
    "import time\n",
    "import numpy as np\n",
    "from typing import cast\n",
    "\n",
    "rng = np.random.default_rng()\n",
    "TEST_RUNS = 10\n",
    "sizes = [10, 50, 100, 1000, 2500, 7500, 10000, 12500, 17500, 20000]"
   ]
  },
  {
   "cell_type": "markdown",
   "id": "299458e4",
   "metadata": {
    "vscode": {
     "languageId": "plaintext"
    }
   },
   "source": [
    "### Testing `sorted`"
   ]
  },
  {
   "cell_type": "code",
   "execution_count": 16,
   "id": "36bd1f85",
   "metadata": {},
   "outputs": [
    {
     "name": "stdout",
     "output_type": "stream",
     "text": [
      "n = 10       time = 0.005 ms\n",
      "n = 50       time = 0.006 ms\n",
      "n = 100      time = 0.013 ms\n",
      "n = 1,000    time = 0.183 ms\n",
      "n = 2,500    time = 0.247 ms\n",
      "n = 7,500    time = 1.142 ms\n",
      "n = 10,000   time = 1.763 ms\n",
      "n = 12,500   time = 1.931 ms\n",
      "n = 17,500   time = 1.985 ms\n",
      "n = 20,000   time = 2.391 ms\n"
     ]
    }
   ],
   "source": [
    "for i in range(TEST_RUNS):\n",
    "        n = sizes[i]\n",
    "        arr = rng.integers(low=0, high=100, size=n).tolist()\n",
    "\n",
    "        start = time.perf_counter()\n",
    "        sorted(arr)\n",
    "        end = time.perf_counter()\n",
    "\n",
    "        print(f\"n = {n:<8,} time = {(end - start) * 1_000:.3f} ms\")"
   ]
  },
  {
   "cell_type": "markdown",
   "id": "5c2d956f",
   "metadata": {},
   "source": [
    "\n",
    "### Results\n",
    "\n",
    "To figure out the expected runtime of `sorted`, we can look at ratios for common average-case runtimes:\n",
    "* $\\Theta(n)$\n",
    "* $\\Theta(\\lg n)$\n",
    "* $\\Theta(n \\lg n)$\n",
    "* $\\Theta(n^2)$\n",
    "\n",
    "The results are as follows:\n",
    "\n",
    "| $n$    | $T(n)$    | $\\dfrac{T(n)}{n}$ | $\\dfrac{T(n)}{\\lg n}$ | $\\dfrac{T(n)}{n \\lg n}$ | $\\dfrac{T(n)}{n^2}$ |\n",
    "| ------ | --------- | ----------------- | --------------------- | ----------------------- | ------------------- |\n",
    "| 10     | 0.005     | 0.000500          | 0.001505              | 0.000150                | 0.000050            |\n",
    "| 50     | 0.006     | 0.000120          | 0.001063              | 0.000021                | 0.0000024           |\n",
    "| 100    | 0.013     | 0.000130          | 0.001958              | 0.000020                | 0.00000013          |\n",
    "| 1,000  | 0.183     | 0.000183          | 0.01836               | 0.0000184               | 0.000000183         |\n",
    "| 2,500  | 0.247     | 0.000099          | 0.02188               | 0.00000875              | 0.0000000395        |\n",
    "| 7,500  | 1.142     | 0.000152          | 0.08874               | 0.0000118               | 0.0000000152        |\n",
    "| 10,000 | 1.763     | 0.000176          | 0.1326                | 0.0000133               | 0.0000000176        |\n",
    "| 12,500 | 1.931     | 0.000154          | 0.1418                | 0.0000113               | 0.0000000123        |\n",
    "| 17,500 | 1.985     | 0.000113          | 0.1408                | 0.00000804              | 0.00000000649       |\n",
    "| 20,000 | 2.391     | 0.000120          | 0.1674                | 0.00000593              | 0.00000000598       |\n",
    "\n",
    "Looking at the ratios for $\\Theta(n)$, we don't see the values stabilize at all. Similarly with $\\Theta(n \\lg n)$,\n",
    "the ratios appear to increase exponentially as $n$ increases. Looking at $\\Theta(n^2)$, the ratios appear to decrease\n",
    "as $n$ increases. The ratios for $\\Theta(n \\lg n)$ are not perfect, but we can see that they tend to stabilize somewhere\n",
    "between $1.0 \\times 10^{-5}$ and $1.0 \\times 10^{-6}$. This leads us to conclude that `sorted` runs in $\\Theta(n \\lg n)$ time."
   ]
  },
  {
   "cell_type": "markdown",
   "id": "d07ba2c9",
   "metadata": {},
   "source": [
    "### Testing `list.sort()`"
   ]
  },
  {
   "cell_type": "code",
   "execution_count": 17,
   "id": "68b700e8",
   "metadata": {},
   "outputs": [
    {
     "name": "stdout",
     "output_type": "stream",
     "text": [
      "n = 10       time = 0.002 ms\n",
      "n = 50       time = 0.004 ms\n",
      "n = 100      time = 0.007 ms\n",
      "n = 1,000    time = 0.090 ms\n",
      "n = 2,500    time = 0.229 ms\n",
      "n = 7,500    time = 0.904 ms\n",
      "n = 10,000   time = 1.042 ms\n",
      "n = 12,500   time = 1.171 ms\n",
      "n = 17,500   time = 1.840 ms\n",
      "n = 20,000   time = 2.367 ms\n"
     ]
    }
   ],
   "source": [
    "for i in range(TEST_RUNS):\n",
    "        n = sizes[i]\n",
    "        arr = cast(list, rng.integers(low=0, high=100, size=n).tolist())\n",
    "\n",
    "        start = time.perf_counter()\n",
    "        arr.sort()\n",
    "        end = time.perf_counter()\n",
    "\n",
    "        print(f\"n = {n:<8,} time = {(end - start) * 1_000:.3f} ms\")"
   ]
  },
  {
   "cell_type": "markdown",
   "id": "e1f6cab9",
   "metadata": {},
   "source": [
    "\n",
    "### Results\n",
    "\n",
    "We will analyze `list.sort` similar to how we analyzed `sorted` - by looking at ratios for common average-case runtimes:\n",
    "* $\\Theta(n)$\n",
    "* $\\Theta(\\lg n)$\n",
    "* $\\Theta(n \\lg n)$\n",
    "* $\\Theta(n^2)$\n",
    "\n",
    "The results are as follows:\n",
    "\n",
    "| $n$    | $T(n)$ | $\\dfrac{T(n)}{n}$ | $\\dfrac{T(n)}{\\lg n}$ | $\\dfrac{T(n)}{n \\lg n}$ | $\\dfrac{T(n)}{n^2}$ |\n",
    "| ------ | ------ | ----------------- | --------------------- | ----------------------- | ------------------- |\n",
    "| 10     | 0.002  | 0.000200          | 0.000603              | 0.0000603               | 0.000020            |\n",
    "| 50     | 0.004  | 0.000080          | 0.000709              | 0.0000141               | 0.0000016           |\n",
    "| 100    | 0.007  | 0.000070          | 0.001053              | 0.0000105               | 0.0000007           |\n",
    "| 1,000  | 0.090  | 0.000090          | 0.00904               | 0.000000906             | 0.000000090         |\n",
    "| 2,500  | 0.229  | 0.0000916         | 0.02028               | 0.00000811              | 0.0000000366        |\n",
    "| 7,500  | 0.904  | 0.0001205         | 0.07027               | 0.00000937              | 0.0000000161        |\n",
    "| 10,000 | 1.042  | 0.0001042         | 0.07842               | 0.00000785              | 0.0000000104        |\n",
    "| 12,500 | 1.171  | 0.0000937         | 0.08603               | 0.00000688              | 0.00000000749       |\n",
    "| 17,500 | 1.840  | 0.000105          | 0.1305                | 0.00000746              | 0.00000000600       |\n",
    "| 20,000 | 2.367  | 0.000118          | 0.1657                | 0.00000821              | 0.00000000592       |\n",
    "\n",
    "Similar to the results for `sorted`, the ratios for $\\Theta(n \\lg n)$ are the most stable (somewhere\n",
    "between $1.0 \\times 10^{-5}$ and $1.0 \\times 10^{-7}$). This leads us to conclude that `list.sort` also\n",
    "runs in $\\Theta(n \\lg n)$ time."
   ]
  },
  {
   "cell_type": "markdown",
   "id": "780e0f05",
   "metadata": {},
   "source": [
    "## Final Analysis\n",
    "\n",
    "Both `sorted` and `list.sort` in Python are designed to use the same sorting algorithm, known as _Timsort_.\n",
    "It's a hybrid algorithm, mirroring the behavior of both merge-sort and insertion-sort. It achieves\n",
    "an average-case $\\Theta(n \\lg n)$ runtime, which is consistent with our experimental results.\n",
    "\n",
    "The two methods are similar, but have a few minor differences. While `list.sort` will only work on\n",
    "instances of the `list` class, `sorted` is generic, and will sort any `iterable` whose elements are comparable.\n",
    "The `list.sort` method performs all operations _in-place_, so the list it acts upon will be modified. The `sorted`\n",
    "method, on the other hand, returns a new sorted collection - taking up $\\mathrm{O}(n)$ auxillary space in the process.\n"
   ]
  }
 ],
 "metadata": {
  "kernelspec": {
   "display_name": "Python 3",
   "language": "python",
   "name": "python3"
  },
  "language_info": {
   "codemirror_mode": {
    "name": "ipython",
    "version": 3
   },
   "file_extension": ".py",
   "mimetype": "text/x-python",
   "name": "python",
   "nbconvert_exporter": "python",
   "pygments_lexer": "ipython3",
   "version": "3.13.7"
  }
 },
 "nbformat": 4,
 "nbformat_minor": 5
}
