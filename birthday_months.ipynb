{
  "nbformat": 4,
  "nbformat_minor": 0,
  "metadata": {
    "colab": {
      "provenance": [],
      "authorship_tag": "ABX9TyNNGkHDErFm7Vnp6Pf1SEvD",
      "include_colab_link": true
    },
    "kernelspec": {
      "name": "python3",
      "display_name": "Python 3"
    },
    "language_info": {
      "name": "python"
    }
  },
  "cells": [
    {
      "cell_type": "markdown",
      "metadata": {
        "id": "view-in-github",
        "colab_type": "text"
      },
      "source": [
        "<a href=\"https://colab.research.google.com/github/Ryan-M-Smith/CS315/blob/main/birthday_months.ipynb\" target=\"_parent\"><img src=\"https://colab.research.google.com/assets/colab-badge.svg\" alt=\"Open In Colab\"/></a>"
      ]
    },
    {
      "cell_type": "code",
      "execution_count": 21,
      "metadata": {
        "colab": {
          "base_uri": "https://localhost:8080/"
        },
        "id": "NwGgQsSjXac3",
        "outputId": "2fc9666e-0279-4709-cfce-babd2f6889de"
      },
      "outputs": [
        {
          "output_type": "stream",
          "name": "stdout",
          "text": [
            "Calculating the probabilties of two students having the same birth month...\n",
            "P(2) = 0.08333333333333333\n",
            "P(3) = 0.2361111111111111\n",
            "P(4) = 0.4270833333333333\n",
            "P(5) = 0.6180555555555556\n",
            "P(6) = 0.7771990740740741\n",
            "P(7) = 0.8885995370370371\n",
            "P(8) = 0.9535831404320988\n",
            "P(9) = 0.9845277134773662\n",
            "P(10) = 0.9961319283693416\n",
            "P(11) = 0.9993553213948903\n",
            "Done!\n",
            "\n",
            "Calculating the probabilties of two students having the same birthday...\n",
            "P(2) = 0.0027397260273972603\n",
            "P(3) = 0.008204165884781385\n",
            "P(4) = 0.016355912466550306\n",
            "P(5) = 0.02713557369979359\n",
            "P(6) = 0.04046248364911149\n",
            "P(7) = 0.056235703095975406\n",
            "P(8) = 0.07433529235166902\n",
            "P(9) = 0.09462383388916669\n",
            "P(10) = 0.11694817771107766\n",
            "P(11) = 0.14114137832173307\n",
            "Done!\n",
            "\n"
          ]
        }
      ],
      "source": [
        "from math import perm\n",
        "\n",
        "def calc_probability(n: int, total: int) -> float:\n",
        "  \"\"\" Calculate the probability that n students have birthdays in the same month \"\"\"\n",
        "  return (total ** n - perm(total, n)) / total ** n\n",
        "\n",
        "def main() -> None:\n",
        "  \"\"\" Calculate P(n) for increasing values of n \"\"\"\n",
        "\n",
        "  print(\"Calculating the probabilties of two students having the same birth month...\")\n",
        "  for n in range(2, 12):\n",
        "    prob = calc_probability(n, 12)\n",
        "    print(f\"P({n}) = {prob}\")\n",
        "  print(\"Done!\\n\")\n",
        "\n",
        "  print(\"Calculating the probabilties of two students having the same birthday...\")\n",
        "  for n in range(2, 12):\n",
        "    prob = calc_probability(n, 365)\n",
        "    print(f\"P({n}) = {prob}\")\n",
        "  print(\"Done!\\n\")\n",
        "\n",
        "if __name__ == \"__main__\":\n",
        "  main()"
      ]
    }
  ]
}