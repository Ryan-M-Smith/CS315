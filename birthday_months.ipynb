{
  "nbformat": 4,
  "nbformat_minor": 0,
  "metadata": {
    "colab": {
      "provenance": [],
      "authorship_tag": "ABX9TyNUc7yXJMmdYSdUvSEqRvWY",
      "include_colab_link": true
    },
    "kernelspec": {
      "name": "python3",
      "display_name": "Python 3"
    },
    "language_info": {
      "name": "python"
    }
  },
  "cells": [
    {
      "cell_type": "markdown",
      "metadata": {
        "id": "view-in-github",
        "colab_type": "text"
      },
      "source": [
        "<a href=\"https://colab.research.google.com/github/Ryan-M-Smith/CS315/blob/main/birthday_months.ipynb\" target=\"_parent\"><img src=\"https://colab.research.google.com/assets/colab-badge.svg\" alt=\"Open In Colab\"/></a>"
      ]
    },
    {
      "cell_type": "code",
      "execution_count": 17,
      "metadata": {
        "colab": {
          "base_uri": "https://localhost:8080/"
        },
        "id": "NwGgQsSjXac3",
        "outputId": "cb9e7ef9-f3a2-4299-9689-12e9a915edd6"
      },
      "outputs": [
        {
          "output_type": "stream",
          "name": "stdout",
          "text": [
            "P(5) = 0.6180555555555556\n",
            "n = 5\n"
          ]
        }
      ],
      "source": [
        "from math import perm\n",
        "\n",
        "def calc_probability(n: int) -> float:\n",
        "  \"\"\" Calculate the probability that n students have birthdays in the same month \"\"\"\n",
        "  return (12 ** n - perm(12, n)) / 12 ** n\n",
        "\n",
        "def main() -> None:\n",
        "  \"\"\" Calculate P(n) for increasing values of n until P > 0.5 \"\"\"\n",
        "\n",
        "  n, prob = 1, 0.0\n",
        "\n",
        "  while prob <= 0.5:\n",
        "    n += 1\n",
        "    prob = calc_probability(n)\n",
        "\n",
        "  print(f\"P({n}) = {prob}\")\n",
        "  print(f\"n = {n}\")\n",
        "\n",
        "if __name__ == \"__main__\":\n",
        "  main()"
      ]
    }
  ]
}